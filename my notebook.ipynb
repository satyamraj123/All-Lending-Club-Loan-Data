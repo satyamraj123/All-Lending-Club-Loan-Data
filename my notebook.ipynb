{
 "cells": [
  {
   "cell_type": "code",
   "execution_count": 1,
   "id": "3df2771f",
   "metadata": {},
   "outputs": [],
   "source": [
    "import pandas as pd\n",
    "import numpy as np\n",
    "import seaborn as sns\n",
    "import matplotlib.pyplot as plt\n",
    "%matplotlib inline"
   ]
  },
  {
   "cell_type": "code",
   "execution_count": 2,
   "id": "dfa1ced6",
   "metadata": {},
   "outputs": [],
   "source": [
    "datainfo=pd.read_csv(\"lending_club_info.csv\",index_col='LoanStatNew')"
   ]
  },
  {
   "cell_type": "code",
   "execution_count": 3,
   "id": "53cc6a06",
   "metadata": {},
   "outputs": [
    {
     "data": {
      "text/html": [
       "<div>\n",
       "<style scoped>\n",
       "    .dataframe tbody tr th:only-of-type {\n",
       "        vertical-align: middle;\n",
       "    }\n",
       "\n",
       "    .dataframe tbody tr th {\n",
       "        vertical-align: top;\n",
       "    }\n",
       "\n",
       "    .dataframe thead th {\n",
       "        text-align: right;\n",
       "    }\n",
       "</style>\n",
       "<table border=\"1\" class=\"dataframe\">\n",
       "  <thead>\n",
       "    <tr style=\"text-align: right;\">\n",
       "      <th></th>\n",
       "      <th>Description</th>\n",
       "    </tr>\n",
       "    <tr>\n",
       "      <th>LoanStatNew</th>\n",
       "      <th></th>\n",
       "    </tr>\n",
       "  </thead>\n",
       "  <tbody>\n",
       "    <tr>\n",
       "      <th>loan_amnt</th>\n",
       "      <td>The listed amount of the loan applied for by t...</td>\n",
       "    </tr>\n",
       "    <tr>\n",
       "      <th>term</th>\n",
       "      <td>The number of payments on the loan. Values are...</td>\n",
       "    </tr>\n",
       "    <tr>\n",
       "      <th>int_rate</th>\n",
       "      <td>Interest Rate on the loan</td>\n",
       "    </tr>\n",
       "    <tr>\n",
       "      <th>installment</th>\n",
       "      <td>The monthly payment owed by the borrower if th...</td>\n",
       "    </tr>\n",
       "    <tr>\n",
       "      <th>grade</th>\n",
       "      <td>LC assigned loan grade</td>\n",
       "    </tr>\n",
       "    <tr>\n",
       "      <th>sub_grade</th>\n",
       "      <td>LC assigned loan subgrade</td>\n",
       "    </tr>\n",
       "    <tr>\n",
       "      <th>emp_title</th>\n",
       "      <td>The job title supplied by the Borrower when ap...</td>\n",
       "    </tr>\n",
       "    <tr>\n",
       "      <th>emp_length</th>\n",
       "      <td>Employment length in years. Possible values ar...</td>\n",
       "    </tr>\n",
       "    <tr>\n",
       "      <th>home_ownership</th>\n",
       "      <td>The home ownership status provided by the borr...</td>\n",
       "    </tr>\n",
       "    <tr>\n",
       "      <th>annual_inc</th>\n",
       "      <td>The self-reported annual income provided by th...</td>\n",
       "    </tr>\n",
       "    <tr>\n",
       "      <th>verification_status</th>\n",
       "      <td>Indicates if income was verified by LC, not ve...</td>\n",
       "    </tr>\n",
       "    <tr>\n",
       "      <th>issue_d</th>\n",
       "      <td>The month which the loan was funded</td>\n",
       "    </tr>\n",
       "    <tr>\n",
       "      <th>loan_status</th>\n",
       "      <td>Current status of the loan</td>\n",
       "    </tr>\n",
       "    <tr>\n",
       "      <th>purpose</th>\n",
       "      <td>A category provided by the borrower for the lo...</td>\n",
       "    </tr>\n",
       "    <tr>\n",
       "      <th>title</th>\n",
       "      <td>The loan title provided by the borrower</td>\n",
       "    </tr>\n",
       "    <tr>\n",
       "      <th>zip_code</th>\n",
       "      <td>The first 3 numbers of the zip code provided b...</td>\n",
       "    </tr>\n",
       "    <tr>\n",
       "      <th>addr_state</th>\n",
       "      <td>The state provided by the borrower in the loan...</td>\n",
       "    </tr>\n",
       "    <tr>\n",
       "      <th>dti</th>\n",
       "      <td>A ratio calculated using the borrower’s total ...</td>\n",
       "    </tr>\n",
       "    <tr>\n",
       "      <th>earliest_cr_line</th>\n",
       "      <td>The month the borrower's earliest reported cre...</td>\n",
       "    </tr>\n",
       "    <tr>\n",
       "      <th>open_acc</th>\n",
       "      <td>The number of open credit lines in the borrowe...</td>\n",
       "    </tr>\n",
       "    <tr>\n",
       "      <th>pub_rec</th>\n",
       "      <td>Number of derogatory public records</td>\n",
       "    </tr>\n",
       "    <tr>\n",
       "      <th>revol_bal</th>\n",
       "      <td>Total credit revolving balance</td>\n",
       "    </tr>\n",
       "    <tr>\n",
       "      <th>revol_util</th>\n",
       "      <td>Revolving line utilization rate, or the amount...</td>\n",
       "    </tr>\n",
       "    <tr>\n",
       "      <th>total_acc</th>\n",
       "      <td>The total number of credit lines currently in ...</td>\n",
       "    </tr>\n",
       "    <tr>\n",
       "      <th>initial_list_status</th>\n",
       "      <td>The initial listing status of the loan. Possib...</td>\n",
       "    </tr>\n",
       "    <tr>\n",
       "      <th>application_type</th>\n",
       "      <td>Indicates whether the loan is an individual ap...</td>\n",
       "    </tr>\n",
       "    <tr>\n",
       "      <th>mort_acc</th>\n",
       "      <td>Number of mortgage accounts.</td>\n",
       "    </tr>\n",
       "    <tr>\n",
       "      <th>pub_rec_bankruptcies</th>\n",
       "      <td>Number of public record bankruptcies</td>\n",
       "    </tr>\n",
       "  </tbody>\n",
       "</table>\n",
       "</div>"
      ],
      "text/plain": [
       "                                                            Description\n",
       "LoanStatNew                                                            \n",
       "loan_amnt             The listed amount of the loan applied for by t...\n",
       "term                  The number of payments on the loan. Values are...\n",
       "int_rate                                      Interest Rate on the loan\n",
       "installment           The monthly payment owed by the borrower if th...\n",
       "grade                                            LC assigned loan grade\n",
       "sub_grade                                     LC assigned loan subgrade\n",
       "emp_title             The job title supplied by the Borrower when ap...\n",
       "emp_length            Employment length in years. Possible values ar...\n",
       "home_ownership        The home ownership status provided by the borr...\n",
       "annual_inc            The self-reported annual income provided by th...\n",
       "verification_status   Indicates if income was verified by LC, not ve...\n",
       "issue_d                             The month which the loan was funded\n",
       "loan_status                                  Current status of the loan\n",
       "purpose               A category provided by the borrower for the lo...\n",
       "title                           The loan title provided by the borrower\n",
       "zip_code              The first 3 numbers of the zip code provided b...\n",
       "addr_state            The state provided by the borrower in the loan...\n",
       "dti                   A ratio calculated using the borrower’s total ...\n",
       "earliest_cr_line      The month the borrower's earliest reported cre...\n",
       "open_acc              The number of open credit lines in the borrowe...\n",
       "pub_rec                             Number of derogatory public records\n",
       "revol_bal                                Total credit revolving balance\n",
       "revol_util            Revolving line utilization rate, or the amount...\n",
       "total_acc             The total number of credit lines currently in ...\n",
       "initial_list_status   The initial listing status of the loan. Possib...\n",
       "application_type      Indicates whether the loan is an individual ap...\n",
       "mort_acc                                   Number of mortgage accounts.\n",
       "pub_rec_bankruptcies               Number of public record bankruptcies"
      ]
     },
     "execution_count": 3,
     "metadata": {},
     "output_type": "execute_result"
    }
   ],
   "source": [
    "datainfo"
   ]
  },
  {
   "cell_type": "code",
   "execution_count": 4,
   "id": "cf4139de",
   "metadata": {},
   "outputs": [
    {
     "data": {
      "text/html": [
       "<div>\n",
       "<style scoped>\n",
       "    .dataframe tbody tr th:only-of-type {\n",
       "        vertical-align: middle;\n",
       "    }\n",
       "\n",
       "    .dataframe tbody tr th {\n",
       "        vertical-align: top;\n",
       "    }\n",
       "\n",
       "    .dataframe thead th {\n",
       "        text-align: right;\n",
       "    }\n",
       "</style>\n",
       "<table border=\"1\" class=\"dataframe\">\n",
       "  <thead>\n",
       "    <tr style=\"text-align: right;\">\n",
       "      <th></th>\n",
       "      <th>loan_amnt</th>\n",
       "      <th>term</th>\n",
       "      <th>int_rate</th>\n",
       "      <th>installment</th>\n",
       "      <th>grade</th>\n",
       "      <th>sub_grade</th>\n",
       "      <th>emp_title</th>\n",
       "      <th>emp_length</th>\n",
       "      <th>home_ownership</th>\n",
       "      <th>annual_inc</th>\n",
       "      <th>...</th>\n",
       "      <th>open_acc</th>\n",
       "      <th>pub_rec</th>\n",
       "      <th>revol_bal</th>\n",
       "      <th>revol_util</th>\n",
       "      <th>total_acc</th>\n",
       "      <th>initial_list_status</th>\n",
       "      <th>application_type</th>\n",
       "      <th>mort_acc</th>\n",
       "      <th>pub_rec_bankruptcies</th>\n",
       "      <th>address</th>\n",
       "    </tr>\n",
       "  </thead>\n",
       "  <tbody>\n",
       "    <tr>\n",
       "      <th>0</th>\n",
       "      <td>10000.0</td>\n",
       "      <td>36 months</td>\n",
       "      <td>11.44</td>\n",
       "      <td>329.48</td>\n",
       "      <td>B</td>\n",
       "      <td>B4</td>\n",
       "      <td>Marketing</td>\n",
       "      <td>10+ years</td>\n",
       "      <td>RENT</td>\n",
       "      <td>117000.0</td>\n",
       "      <td>...</td>\n",
       "      <td>16.0</td>\n",
       "      <td>0.0</td>\n",
       "      <td>36369.0</td>\n",
       "      <td>41.8</td>\n",
       "      <td>25.0</td>\n",
       "      <td>w</td>\n",
       "      <td>INDIVIDUAL</td>\n",
       "      <td>0.0</td>\n",
       "      <td>0.0</td>\n",
       "      <td>0174 Michelle Gateway\\nMendozaberg, OK 22690</td>\n",
       "    </tr>\n",
       "    <tr>\n",
       "      <th>1</th>\n",
       "      <td>8000.0</td>\n",
       "      <td>36 months</td>\n",
       "      <td>11.99</td>\n",
       "      <td>265.68</td>\n",
       "      <td>B</td>\n",
       "      <td>B5</td>\n",
       "      <td>Credit analyst</td>\n",
       "      <td>4 years</td>\n",
       "      <td>MORTGAGE</td>\n",
       "      <td>65000.0</td>\n",
       "      <td>...</td>\n",
       "      <td>17.0</td>\n",
       "      <td>0.0</td>\n",
       "      <td>20131.0</td>\n",
       "      <td>53.3</td>\n",
       "      <td>27.0</td>\n",
       "      <td>f</td>\n",
       "      <td>INDIVIDUAL</td>\n",
       "      <td>3.0</td>\n",
       "      <td>0.0</td>\n",
       "      <td>1076 Carney Fort Apt. 347\\nLoganmouth, SD 05113</td>\n",
       "    </tr>\n",
       "    <tr>\n",
       "      <th>2</th>\n",
       "      <td>15600.0</td>\n",
       "      <td>36 months</td>\n",
       "      <td>10.49</td>\n",
       "      <td>506.97</td>\n",
       "      <td>B</td>\n",
       "      <td>B3</td>\n",
       "      <td>Statistician</td>\n",
       "      <td>&lt; 1 year</td>\n",
       "      <td>RENT</td>\n",
       "      <td>43057.0</td>\n",
       "      <td>...</td>\n",
       "      <td>13.0</td>\n",
       "      <td>0.0</td>\n",
       "      <td>11987.0</td>\n",
       "      <td>92.2</td>\n",
       "      <td>26.0</td>\n",
       "      <td>f</td>\n",
       "      <td>INDIVIDUAL</td>\n",
       "      <td>0.0</td>\n",
       "      <td>0.0</td>\n",
       "      <td>87025 Mark Dale Apt. 269\\nNew Sabrina, WV 05113</td>\n",
       "    </tr>\n",
       "    <tr>\n",
       "      <th>3</th>\n",
       "      <td>7200.0</td>\n",
       "      <td>36 months</td>\n",
       "      <td>6.49</td>\n",
       "      <td>220.65</td>\n",
       "      <td>A</td>\n",
       "      <td>A2</td>\n",
       "      <td>Client Advocate</td>\n",
       "      <td>6 years</td>\n",
       "      <td>RENT</td>\n",
       "      <td>54000.0</td>\n",
       "      <td>...</td>\n",
       "      <td>6.0</td>\n",
       "      <td>0.0</td>\n",
       "      <td>5472.0</td>\n",
       "      <td>21.5</td>\n",
       "      <td>13.0</td>\n",
       "      <td>f</td>\n",
       "      <td>INDIVIDUAL</td>\n",
       "      <td>0.0</td>\n",
       "      <td>0.0</td>\n",
       "      <td>823 Reid Ford\\nDelacruzside, MA 00813</td>\n",
       "    </tr>\n",
       "    <tr>\n",
       "      <th>4</th>\n",
       "      <td>24375.0</td>\n",
       "      <td>60 months</td>\n",
       "      <td>17.27</td>\n",
       "      <td>609.33</td>\n",
       "      <td>C</td>\n",
       "      <td>C5</td>\n",
       "      <td>Destiny Management Inc.</td>\n",
       "      <td>9 years</td>\n",
       "      <td>MORTGAGE</td>\n",
       "      <td>55000.0</td>\n",
       "      <td>...</td>\n",
       "      <td>13.0</td>\n",
       "      <td>0.0</td>\n",
       "      <td>24584.0</td>\n",
       "      <td>69.8</td>\n",
       "      <td>43.0</td>\n",
       "      <td>f</td>\n",
       "      <td>INDIVIDUAL</td>\n",
       "      <td>1.0</td>\n",
       "      <td>0.0</td>\n",
       "      <td>679 Luna Roads\\nGreggshire, VA 11650</td>\n",
       "    </tr>\n",
       "  </tbody>\n",
       "</table>\n",
       "<p>5 rows × 27 columns</p>\n",
       "</div>"
      ],
      "text/plain": [
       "   loan_amnt        term  int_rate  installment grade sub_grade  \\\n",
       "0    10000.0   36 months     11.44       329.48     B        B4   \n",
       "1     8000.0   36 months     11.99       265.68     B        B5   \n",
       "2    15600.0   36 months     10.49       506.97     B        B3   \n",
       "3     7200.0   36 months      6.49       220.65     A        A2   \n",
       "4    24375.0   60 months     17.27       609.33     C        C5   \n",
       "\n",
       "                 emp_title emp_length home_ownership  annual_inc  ...  \\\n",
       "0                Marketing  10+ years           RENT    117000.0  ...   \n",
       "1          Credit analyst     4 years       MORTGAGE     65000.0  ...   \n",
       "2             Statistician   < 1 year           RENT     43057.0  ...   \n",
       "3          Client Advocate    6 years           RENT     54000.0  ...   \n",
       "4  Destiny Management Inc.    9 years       MORTGAGE     55000.0  ...   \n",
       "\n",
       "  open_acc pub_rec revol_bal revol_util total_acc  initial_list_status  \\\n",
       "0     16.0     0.0   36369.0       41.8      25.0                    w   \n",
       "1     17.0     0.0   20131.0       53.3      27.0                    f   \n",
       "2     13.0     0.0   11987.0       92.2      26.0                    f   \n",
       "3      6.0     0.0    5472.0       21.5      13.0                    f   \n",
       "4     13.0     0.0   24584.0       69.8      43.0                    f   \n",
       "\n",
       "  application_type  mort_acc  pub_rec_bankruptcies  \\\n",
       "0       INDIVIDUAL       0.0                   0.0   \n",
       "1       INDIVIDUAL       3.0                   0.0   \n",
       "2       INDIVIDUAL       0.0                   0.0   \n",
       "3       INDIVIDUAL       0.0                   0.0   \n",
       "4       INDIVIDUAL       1.0                   0.0   \n",
       "\n",
       "                                           address  \n",
       "0     0174 Michelle Gateway\\nMendozaberg, OK 22690  \n",
       "1  1076 Carney Fort Apt. 347\\nLoganmouth, SD 05113  \n",
       "2  87025 Mark Dale Apt. 269\\nNew Sabrina, WV 05113  \n",
       "3            823 Reid Ford\\nDelacruzside, MA 00813  \n",
       "4             679 Luna Roads\\nGreggshire, VA 11650  \n",
       "\n",
       "[5 rows x 27 columns]"
      ]
     },
     "execution_count": 4,
     "metadata": {},
     "output_type": "execute_result"
    }
   ],
   "source": [
    "df=pd.read_csv(\"lending_club_loan_two.csv\")\n",
    "df.head()"
   ]
  },
  {
   "cell_type": "code",
   "execution_count": 5,
   "id": "106cf4da",
   "metadata": {},
   "outputs": [
    {
     "data": {
      "text/plain": [
       "(396030, 27)"
      ]
     },
     "execution_count": 5,
     "metadata": {},
     "output_type": "execute_result"
    }
   ],
   "source": [
    "df.shape"
   ]
  },
  {
   "cell_type": "code",
   "execution_count": 6,
   "id": "9170a910",
   "metadata": {},
   "outputs": [
    {
     "data": {
      "text/html": [
       "<div>\n",
       "<style scoped>\n",
       "    .dataframe tbody tr th:only-of-type {\n",
       "        vertical-align: middle;\n",
       "    }\n",
       "\n",
       "    .dataframe tbody tr th {\n",
       "        vertical-align: top;\n",
       "    }\n",
       "\n",
       "    .dataframe thead th {\n",
       "        text-align: right;\n",
       "    }\n",
       "</style>\n",
       "<table border=\"1\" class=\"dataframe\">\n",
       "  <thead>\n",
       "    <tr style=\"text-align: right;\">\n",
       "      <th></th>\n",
       "      <th>loan_amnt</th>\n",
       "      <th>int_rate</th>\n",
       "      <th>installment</th>\n",
       "      <th>annual_inc</th>\n",
       "      <th>dti</th>\n",
       "      <th>open_acc</th>\n",
       "      <th>pub_rec</th>\n",
       "      <th>revol_bal</th>\n",
       "      <th>revol_util</th>\n",
       "      <th>total_acc</th>\n",
       "      <th>mort_acc</th>\n",
       "      <th>pub_rec_bankruptcies</th>\n",
       "    </tr>\n",
       "  </thead>\n",
       "  <tbody>\n",
       "    <tr>\n",
       "      <th>count</th>\n",
       "      <td>396030.000000</td>\n",
       "      <td>396030.000000</td>\n",
       "      <td>396030.000000</td>\n",
       "      <td>3.960300e+05</td>\n",
       "      <td>396030.000000</td>\n",
       "      <td>396030.000000</td>\n",
       "      <td>396030.000000</td>\n",
       "      <td>3.960300e+05</td>\n",
       "      <td>395754.000000</td>\n",
       "      <td>396030.000000</td>\n",
       "      <td>358235.000000</td>\n",
       "      <td>395495.000000</td>\n",
       "    </tr>\n",
       "    <tr>\n",
       "      <th>mean</th>\n",
       "      <td>14113.888089</td>\n",
       "      <td>13.639400</td>\n",
       "      <td>431.849698</td>\n",
       "      <td>7.420318e+04</td>\n",
       "      <td>17.379514</td>\n",
       "      <td>11.311153</td>\n",
       "      <td>0.178191</td>\n",
       "      <td>1.584454e+04</td>\n",
       "      <td>53.791749</td>\n",
       "      <td>25.414744</td>\n",
       "      <td>1.813991</td>\n",
       "      <td>0.121648</td>\n",
       "    </tr>\n",
       "    <tr>\n",
       "      <th>std</th>\n",
       "      <td>8357.441341</td>\n",
       "      <td>4.472157</td>\n",
       "      <td>250.727790</td>\n",
       "      <td>6.163762e+04</td>\n",
       "      <td>18.019092</td>\n",
       "      <td>5.137649</td>\n",
       "      <td>0.530671</td>\n",
       "      <td>2.059184e+04</td>\n",
       "      <td>24.452193</td>\n",
       "      <td>11.886991</td>\n",
       "      <td>2.147930</td>\n",
       "      <td>0.356174</td>\n",
       "    </tr>\n",
       "    <tr>\n",
       "      <th>min</th>\n",
       "      <td>500.000000</td>\n",
       "      <td>5.320000</td>\n",
       "      <td>16.080000</td>\n",
       "      <td>0.000000e+00</td>\n",
       "      <td>0.000000</td>\n",
       "      <td>0.000000</td>\n",
       "      <td>0.000000</td>\n",
       "      <td>0.000000e+00</td>\n",
       "      <td>0.000000</td>\n",
       "      <td>2.000000</td>\n",
       "      <td>0.000000</td>\n",
       "      <td>0.000000</td>\n",
       "    </tr>\n",
       "    <tr>\n",
       "      <th>25%</th>\n",
       "      <td>8000.000000</td>\n",
       "      <td>10.490000</td>\n",
       "      <td>250.330000</td>\n",
       "      <td>4.500000e+04</td>\n",
       "      <td>11.280000</td>\n",
       "      <td>8.000000</td>\n",
       "      <td>0.000000</td>\n",
       "      <td>6.025000e+03</td>\n",
       "      <td>35.800000</td>\n",
       "      <td>17.000000</td>\n",
       "      <td>0.000000</td>\n",
       "      <td>0.000000</td>\n",
       "    </tr>\n",
       "    <tr>\n",
       "      <th>50%</th>\n",
       "      <td>12000.000000</td>\n",
       "      <td>13.330000</td>\n",
       "      <td>375.430000</td>\n",
       "      <td>6.400000e+04</td>\n",
       "      <td>16.910000</td>\n",
       "      <td>10.000000</td>\n",
       "      <td>0.000000</td>\n",
       "      <td>1.118100e+04</td>\n",
       "      <td>54.800000</td>\n",
       "      <td>24.000000</td>\n",
       "      <td>1.000000</td>\n",
       "      <td>0.000000</td>\n",
       "    </tr>\n",
       "    <tr>\n",
       "      <th>75%</th>\n",
       "      <td>20000.000000</td>\n",
       "      <td>16.490000</td>\n",
       "      <td>567.300000</td>\n",
       "      <td>9.000000e+04</td>\n",
       "      <td>22.980000</td>\n",
       "      <td>14.000000</td>\n",
       "      <td>0.000000</td>\n",
       "      <td>1.962000e+04</td>\n",
       "      <td>72.900000</td>\n",
       "      <td>32.000000</td>\n",
       "      <td>3.000000</td>\n",
       "      <td>0.000000</td>\n",
       "    </tr>\n",
       "    <tr>\n",
       "      <th>max</th>\n",
       "      <td>40000.000000</td>\n",
       "      <td>30.990000</td>\n",
       "      <td>1533.810000</td>\n",
       "      <td>8.706582e+06</td>\n",
       "      <td>9999.000000</td>\n",
       "      <td>90.000000</td>\n",
       "      <td>86.000000</td>\n",
       "      <td>1.743266e+06</td>\n",
       "      <td>892.300000</td>\n",
       "      <td>151.000000</td>\n",
       "      <td>34.000000</td>\n",
       "      <td>8.000000</td>\n",
       "    </tr>\n",
       "  </tbody>\n",
       "</table>\n",
       "</div>"
      ],
      "text/plain": [
       "           loan_amnt       int_rate    installment    annual_inc  \\\n",
       "count  396030.000000  396030.000000  396030.000000  3.960300e+05   \n",
       "mean    14113.888089      13.639400     431.849698  7.420318e+04   \n",
       "std      8357.441341       4.472157     250.727790  6.163762e+04   \n",
       "min       500.000000       5.320000      16.080000  0.000000e+00   \n",
       "25%      8000.000000      10.490000     250.330000  4.500000e+04   \n",
       "50%     12000.000000      13.330000     375.430000  6.400000e+04   \n",
       "75%     20000.000000      16.490000     567.300000  9.000000e+04   \n",
       "max     40000.000000      30.990000    1533.810000  8.706582e+06   \n",
       "\n",
       "                 dti       open_acc        pub_rec     revol_bal  \\\n",
       "count  396030.000000  396030.000000  396030.000000  3.960300e+05   \n",
       "mean       17.379514      11.311153       0.178191  1.584454e+04   \n",
       "std        18.019092       5.137649       0.530671  2.059184e+04   \n",
       "min         0.000000       0.000000       0.000000  0.000000e+00   \n",
       "25%        11.280000       8.000000       0.000000  6.025000e+03   \n",
       "50%        16.910000      10.000000       0.000000  1.118100e+04   \n",
       "75%        22.980000      14.000000       0.000000  1.962000e+04   \n",
       "max      9999.000000      90.000000      86.000000  1.743266e+06   \n",
       "\n",
       "          revol_util      total_acc       mort_acc  pub_rec_bankruptcies  \n",
       "count  395754.000000  396030.000000  358235.000000         395495.000000  \n",
       "mean       53.791749      25.414744       1.813991              0.121648  \n",
       "std        24.452193      11.886991       2.147930              0.356174  \n",
       "min         0.000000       2.000000       0.000000              0.000000  \n",
       "25%        35.800000      17.000000       0.000000              0.000000  \n",
       "50%        54.800000      24.000000       1.000000              0.000000  \n",
       "75%        72.900000      32.000000       3.000000              0.000000  \n",
       "max       892.300000     151.000000      34.000000              8.000000  "
      ]
     },
     "execution_count": 6,
     "metadata": {},
     "output_type": "execute_result"
    }
   ],
   "source": [
    "df.describe()"
   ]
  },
  {
   "cell_type": "code",
   "execution_count": 7,
   "id": "31bb70d6",
   "metadata": {},
   "outputs": [
    {
     "data": {
      "text/plain": [
       "Fully Paid     318357\n",
       "Charged Off     77673\n",
       "Name: loan_status, dtype: int64"
      ]
     },
     "execution_count": 7,
     "metadata": {},
     "output_type": "execute_result"
    }
   ],
   "source": [
    "df.loan_status.value_counts()\n",
    "#hence classsification problem"
   ]
  },
  {
   "cell_type": "code",
   "execution_count": 8,
   "id": "7e37bd7d",
   "metadata": {},
   "outputs": [
    {
     "data": {
      "text/plain": [
       "loan_amnt                   0\n",
       "term                        0\n",
       "int_rate                    0\n",
       "installment                 0\n",
       "grade                       0\n",
       "sub_grade                   0\n",
       "emp_title               22927\n",
       "emp_length              18301\n",
       "home_ownership              0\n",
       "annual_inc                  0\n",
       "verification_status         0\n",
       "issue_d                     0\n",
       "loan_status                 0\n",
       "purpose                     0\n",
       "title                    1755\n",
       "dti                         0\n",
       "earliest_cr_line            0\n",
       "open_acc                    0\n",
       "pub_rec                     0\n",
       "revol_bal                   0\n",
       "revol_util                276\n",
       "total_acc                   0\n",
       "initial_list_status         0\n",
       "application_type            0\n",
       "mort_acc                37795\n",
       "pub_rec_bankruptcies      535\n",
       "address                     0\n",
       "dtype: int64"
      ]
     },
     "execution_count": 8,
     "metadata": {},
     "output_type": "execute_result"
    }
   ],
   "source": [
    "df.isnull().sum()"
   ]
  },
  {
   "cell_type": "code",
   "execution_count": 9,
   "id": "ba204d3c",
   "metadata": {},
   "outputs": [
    {
     "data": {
      "text/plain": [
       "Debt consolidation            152472\n",
       "Credit card refinancing        51487\n",
       "Home improvement               15264\n",
       "Other                          12930\n",
       "Debt Consolidation             11608\n",
       "                               ...  \n",
       "Graduation/Travel Expenses         1\n",
       "Daughter's Wedding Bill            1\n",
       "gotta move                         1\n",
       "creditcardrefi                     1\n",
       "Toxic Debt Payoff                  1\n",
       "Name: title, Length: 48817, dtype: int64"
      ]
     },
     "execution_count": 9,
     "metadata": {},
     "output_type": "execute_result"
    }
   ],
   "source": [
    "#lets check these columns one by one\n",
    "df.title\n",
    "df.title.value_counts()\n",
    "#since it has about 50k different values(which is about 13%) we will consider it as a categorial feature \n",
    "#so title is important feature for our prediction\\"
   ]
  },
  {
   "cell_type": "code",
   "execution_count": 10,
   "id": "ce61955e",
   "metadata": {},
   "outputs": [
    {
     "data": {
      "text/plain": [
       "Teacher                    4389\n",
       "Manager                    4250\n",
       "Registered Nurse           1856\n",
       "RN                         1846\n",
       "Supervisor                 1830\n",
       "                           ... \n",
       "Postman                       1\n",
       "McCarthy & Holthus, LLC       1\n",
       "jp flooring                   1\n",
       "Histology Technologist        1\n",
       "Gracon Services, Inc          1\n",
       "Name: emp_title, Length: 173105, dtype: int64"
      ]
     },
     "execution_count": 10,
     "metadata": {},
     "output_type": "execute_result"
    }
   ],
   "source": [
    "df.emp_title.value_counts()\n",
    "#so its difficult to decide whether emp_title should be taken as categorical feature or not\n",
    "#since it has more than 170k different values(which is about 50%) we wont consider it as a feature "
   ]
  },
  {
   "cell_type": "code",
   "execution_count": 11,
   "id": "210d5577",
   "metadata": {},
   "outputs": [
    {
     "data": {
      "text/plain": [
       "10+ years    126041\n",
       "2 years       35827\n",
       "< 1 year      31725\n",
       "3 years       31665\n",
       "5 years       26495\n",
       "1 year        25882\n",
       "4 years       23952\n",
       "6 years       20841\n",
       "7 years       20819\n",
       "8 years       19168\n",
       "9 years       15314\n",
       "Name: emp_length, dtype: int64"
      ]
     },
     "execution_count": 11,
     "metadata": {},
     "output_type": "execute_result"
    }
   ],
   "source": [
    "df.emp_length.value_counts()\n",
    "#this is a good categorical feature, we can also consider it as a continuous feature\n",
    "#but lets consider it as categorical for now"
   ]
  },
  {
   "cell_type": "code",
   "execution_count": 12,
   "id": "2660d16a",
   "metadata": {},
   "outputs": [
    {
     "data": {
      "text/plain": [
       "0.00      2213\n",
       "53.00      752\n",
       "60.00      739\n",
       "61.00      734\n",
       "55.00      730\n",
       "          ... \n",
       "892.30       1\n",
       "110.10       1\n",
       "123.00       1\n",
       "49.63        1\n",
       "128.10       1\n",
       "Name: revol_util, Length: 1226, dtype: int64"
      ]
     },
     "execution_count": 12,
     "metadata": {},
     "output_type": "execute_result"
    }
   ],
   "source": [
    "df.revol_util.value_counts()\n",
    "#this is a continuos feature\n",
    "#we can make it categorical using binning to more generalise the model"
   ]
  },
  {
   "cell_type": "code",
   "execution_count": 13,
   "id": "0a6ad58c",
   "metadata": {},
   "outputs": [
    {
     "data": {
      "text/plain": [
       "0         0.0\n",
       "1         3.0\n",
       "2         0.0\n",
       "3         0.0\n",
       "4         1.0\n",
       "         ... \n",
       "396025    0.0\n",
       "396026    1.0\n",
       "396027    0.0\n",
       "396028    5.0\n",
       "396029    NaN\n",
       "Name: mort_acc, Length: 396030, dtype: float64"
      ]
     },
     "execution_count": 13,
     "metadata": {},
     "output_type": "execute_result"
    }
   ],
   "source": [
    "df.mort_acc\n",
    "#its value ranges from 0 to 34, its a good continous feature"
   ]
  },
  {
   "cell_type": "code",
   "execution_count": 14,
   "id": "8ced9627",
   "metadata": {},
   "outputs": [
    {
     "data": {
      "text/plain": [
       "0.0    350380\n",
       "1.0     42790\n",
       "2.0      1847\n",
       "3.0       351\n",
       "4.0        82\n",
       "5.0        32\n",
       "6.0         7\n",
       "7.0         4\n",
       "8.0         2\n",
       "Name: pub_rec_bankruptcies, dtype: int64"
      ]
     },
     "execution_count": 14,
     "metadata": {},
     "output_type": "execute_result"
    }
   ],
   "source": [
    "df.pub_rec_bankruptcies.value_counts()\n",
    "#its a good continous feature"
   ]
  },
  {
   "cell_type": "code",
   "execution_count": 15,
   "id": "aa47ea85",
   "metadata": {},
   "outputs": [],
   "source": [
    "#revol_util and pub_rec_bankruptcies has very few rows missing. we have options-\n",
    "#1.so we should drop all rows where these two are nulls\n",
    "#2.we can fill pub_rec_bankruptcies missing values with 0, because most of the values there are 0\n",
    "#3.we can fill revol_util with mean or something which going to be quite difficult to figure out\n",
    "\n",
    "#so heres my take\n",
    "#lets fill null values in pub_rec_bankruptcies with 0"
   ]
  },
  {
   "cell_type": "code",
   "execution_count": 16,
   "id": "77643535",
   "metadata": {},
   "outputs": [],
   "source": [
    "df.pub_rec_bankruptcies=df.pub_rec_bankruptcies.fillna(0)"
   ]
  },
  {
   "cell_type": "code",
   "execution_count": 17,
   "id": "e447b8d1",
   "metadata": {},
   "outputs": [
    {
     "data": {
      "text/plain": [
       "0         False\n",
       "1         False\n",
       "2         False\n",
       "3         False\n",
       "4         False\n",
       "          ...  \n",
       "396025    False\n",
       "396026    False\n",
       "396027    False\n",
       "396028    False\n",
       "396029    False\n",
       "Name: pub_rec_bankruptcies, Length: 396030, dtype: bool"
      ]
     },
     "execution_count": 17,
     "metadata": {},
     "output_type": "execute_result"
    }
   ],
   "source": [
    "#lets check for null values in pub_rec_bankruptcies\n",
    "df.pub_rec_bankruptcies.isnull()"
   ]
  },
  {
   "cell_type": "code",
   "execution_count": 18,
   "id": "371df063",
   "metadata": {},
   "outputs": [
    {
     "data": {
      "text/plain": [
       "<AxesSubplot:xlabel='revol_util'>"
      ]
     },
     "execution_count": 18,
     "metadata": {},
     "output_type": "execute_result"
    },
    {
     "data": {
      "image/png": "[encoded data removed]",
      "text/plain": [
       "<Figure size 432x288 with 1 Axes>"
      ]
     },
     "metadata": {
      "needs_background": "light"
     },
     "output_type": "display_data"
    }
   ],
   "source": [
    "#lets make a boxplot of revol_util to see what we should fill in that column\n",
    "sns.boxplot(x=df.revol_util)"
   ]
  },
  {
   "cell_type": "code",
   "execution_count": 19,
   "id": "7fbbf294",
   "metadata": {},
   "outputs": [],
   "source": [
    "#lets fill null values in revol_util with median\n",
    "median=df.revol_util.median()\n",
    "df.revol_util=df.revol_util.fillna(median)"
   ]
  },
  {
   "cell_type": "code",
   "execution_count": 20,
   "id": "589e708c",
   "metadata": {},
   "outputs": [
    {
     "data": {
      "text/plain": [
       "0"
      ]
     },
     "execution_count": 20,
     "metadata": {},
     "output_type": "execute_result"
    }
   ],
   "source": [
    "df.revol_util.isnull().sum()"
   ]
  },
  {
   "cell_type": "code",
   "execution_count": 21,
   "id": "4363d3f2",
   "metadata": {},
   "outputs": [],
   "source": [
    "#sns.barplot(y=df.title.value_counts())\n",
    "#titleseries=df.title.value_counts()\n",
    "#print(len(titleseries))\n",
    "#titledf=pd.DataFrame({'title':titleseries.index, 'count':titleseries.values})\n",
    "#sns.barplot(x='title',y='count',data=titledf)"
   ]
  },
  {
   "cell_type": "code",
   "execution_count": 22,
   "id": "06feb148",
   "metadata": {},
   "outputs": [],
   "source": [
    "#major value is Debt consolidation in title column, so lets fill it with this\n",
    "df.title=df.title.fillna('Debt consolidation')"
   ]
  },
  {
   "cell_type": "code",
   "execution_count": 23,
   "id": "ed65d18d",
   "metadata": {},
   "outputs": [
    {
     "data": {
      "text/plain": [
       "0"
      ]
     },
     "execution_count": 23,
     "metadata": {},
     "output_type": "execute_result"
    }
   ],
   "source": [
    "df.title.isnull().sum()"
   ]
  },
  {
   "cell_type": "code",
   "execution_count": 24,
   "id": "aea53d25",
   "metadata": {},
   "outputs": [],
   "source": [
    "#for emp_title we can either drop the column, or create a new variable out of it\n",
    "df.drop(columns=['emp_title'],axis=1,inplace=True)"
   ]
  },
  {
   "cell_type": "code",
   "execution_count": 25,
   "id": "717dba03",
   "metadata": {},
   "outputs": [
    {
     "data": {
      "text/plain": [
       "Index(['loan_amnt', 'term', 'int_rate', 'installment', 'grade', 'sub_grade',\n",
       "       'emp_length', 'home_ownership', 'annual_inc', 'verification_status',\n",
       "       'issue_d', 'loan_status', 'purpose', 'title', 'dti', 'earliest_cr_line',\n",
       "       'open_acc', 'pub_rec', 'revol_bal', 'revol_util', 'total_acc',\n",
       "       'initial_list_status', 'application_type', 'mort_acc',\n",
       "       'pub_rec_bankruptcies', 'address'],\n",
       "      dtype='object')"
      ]
     },
     "execution_count": 25,
     "metadata": {},
     "output_type": "execute_result"
    }
   ],
   "source": [
    "df.columns"
   ]
  },
  {
   "cell_type": "code",
   "execution_count": 26,
   "id": "59a76271",
   "metadata": {},
   "outputs": [],
   "source": [
    "#lets convert emp length to an ordinal column rather than categorical\n",
    "#we have o make custom encoder\n",
    "from sklearn.preprocessing import LabelEncoder\n",
    "encoder = LabelEncoder()\n",
    "#df.emp_length = encoder.fit_transform(df.emp_length)\n",
    "#df.emp_length.value_counts()\n",
    "def customencoder(emplength):\n",
    "    if(emplength==None):\n",
    "        return emplength\n",
    "    emplength=str(emplength)\n",
    "    if(\"10+\" in emplength):\n",
    "        return 10.0\n",
    "    elif(\"<\" in emplength):\n",
    "        return 0.0\n",
    "    elif(\"1\" in emplength):\n",
    "        return 1.0\n",
    "    elif(\"2\" in emplength):\n",
    "        return 2.0\n",
    "    elif(\"3\" in emplength):\n",
    "        return 3.0\n",
    "    elif(\"4\" in emplength):\n",
    "        return 4.0\n",
    "    elif(\"5\" in emplength):\n",
    "        return 5.0\n",
    "    elif(\"6\" in emplength):\n",
    "        return 6.0\n",
    "    elif(\"7\" in emplength):\n",
    "        return 7.0\n",
    "    elif(\"8\" in emplength):\n",
    "        return 8.0\n",
    "    elif(\"9\" in emplength):\n",
    "        return 9.0\n",
    "df.emp_length=df.emp_length.apply(customencoder)"
   ]
  },
  {
   "cell_type": "code",
   "execution_count": 27,
   "id": "966c5d02",
   "metadata": {},
   "outputs": [
    {
     "data": {
      "text/plain": [
       "10.0    126041\n",
       "2.0      35827\n",
       "0.0      31725\n",
       "3.0      31665\n",
       "5.0      26495\n",
       "1.0      25882\n",
       "4.0      23952\n",
       "6.0      20841\n",
       "7.0      20819\n",
       "8.0      19168\n",
       "9.0      15314\n",
       "Name: emp_length, dtype: int64"
      ]
     },
     "execution_count": 27,
     "metadata": {},
     "output_type": "execute_result"
    }
   ],
   "source": [
    "df.emp_length.value_counts()"
   ]
  },
  {
   "cell_type": "code",
   "execution_count": 28,
   "id": "e14f33ff",
   "metadata": {},
   "outputs": [
    {
     "data": {
      "text/plain": [
       "0"
      ]
     },
     "execution_count": 28,
     "metadata": {},
     "output_type": "execute_result"
    }
   ],
   "source": [
    "#now fill null values with median\n",
    "df.emp_length=df.emp_length.fillna(df.emp_length.median())\n",
    "df.emp_length.isnull().sum()"
   ]
  },
  {
   "cell_type": "code",
   "execution_count": 29,
   "id": "d10b26d1",
   "metadata": {},
   "outputs": [
    {
     "data": {
      "text/plain": [
       "0.0     139777\n",
       "1.0      60416\n",
       "2.0      49948\n",
       "3.0      38049\n",
       "4.0      27887\n",
       "5.0      18194\n",
       "6.0      11069\n",
       "7.0       6052\n",
       "8.0       3121\n",
       "9.0       1656\n",
       "10.0       865\n",
       "11.0       479\n",
       "12.0       264\n",
       "13.0       146\n",
       "14.0       107\n",
       "15.0        61\n",
       "16.0        37\n",
       "17.0        22\n",
       "18.0        18\n",
       "19.0        15\n",
       "20.0        13\n",
       "24.0        10\n",
       "22.0         7\n",
       "21.0         4\n",
       "25.0         4\n",
       "27.0         3\n",
       "32.0         2\n",
       "31.0         2\n",
       "23.0         2\n",
       "26.0         2\n",
       "28.0         1\n",
       "30.0         1\n",
       "34.0         1\n",
       "Name: mort_acc, dtype: int64"
      ]
     },
     "execution_count": 29,
     "metadata": {},
     "output_type": "execute_result"
    }
   ],
   "source": [
    "df.mort_acc.value_counts()\n",
    "#so we have two choices for mort_acc\n",
    "#either draw boxplot and look for outliers and take decision, or fill it with 0 i.e. major value"
   ]
  },
  {
   "cell_type": "code",
   "execution_count": 30,
   "id": "75cde711",
   "metadata": {},
   "outputs": [
    {
     "data": {
      "text/plain": [
       "<AxesSubplot:xlabel='mort_acc'>"
      ]
     },
     "execution_count": 30,
     "metadata": {},
     "output_type": "execute_result"
    },
    {
     "data": {
      "image/png": "[encoded data removed]",
      "text/plain": [
       "<Figure size 432x288 with 1 Axes>"
      ]
     },
     "metadata": {
      "needs_background": "light"
     },
     "output_type": "display_data"
    }
   ],
   "source": [
    "sns.boxplot(x=df.mort_acc)\n",
    "#so there is lot of outliers, we can fill nulls with median"
   ]
  },
  {
   "cell_type": "code",
   "execution_count": 31,
   "id": "b961e352",
   "metadata": {},
   "outputs": [],
   "source": [
    "df.mort_acc=df.mort_acc.fillna(df.mort_acc.median())"
   ]
  },
  {
   "cell_type": "code",
   "execution_count": 32,
   "id": "8c0e9ca2",
   "metadata": {},
   "outputs": [
    {
     "data": {
      "text/plain": [
       "0"
      ]
     },
     "execution_count": 32,
     "metadata": {},
     "output_type": "execute_result"
    }
   ],
   "source": [
    "df.mort_acc.isnull().sum()"
   ]
  },
  {
   "cell_type": "code",
   "execution_count": 33,
   "id": "5a370a5d",
   "metadata": {},
   "outputs": [
    {
     "data": {
      "text/plain": [
       "loan_amnt               0\n",
       "term                    0\n",
       "int_rate                0\n",
       "installment             0\n",
       "grade                   0\n",
       "sub_grade               0\n",
       "emp_length              0\n",
       "home_ownership          0\n",
       "annual_inc              0\n",
       "verification_status     0\n",
       "issue_d                 0\n",
       "loan_status             0\n",
       "purpose                 0\n",
       "title                   0\n",
       "dti                     0\n",
       "earliest_cr_line        0\n",
       "open_acc                0\n",
       "pub_rec                 0\n",
       "revol_bal               0\n",
       "revol_util              0\n",
       "total_acc               0\n",
       "initial_list_status     0\n",
       "application_type        0\n",
       "mort_acc                0\n",
       "pub_rec_bankruptcies    0\n",
       "address                 0\n",
       "dtype: int64"
      ]
     },
     "execution_count": 33,
     "metadata": {},
     "output_type": "execute_result"
    }
   ],
   "source": [
    "#so dealing with null values done\n",
    "df.isnull().sum()"
   ]
  },
  {
   "cell_type": "code",
   "execution_count": 34,
   "id": "089ad06e",
   "metadata": {},
   "outputs": [
    {
     "data": {
      "text/plain": [
       "0              0174 Michelle Gateway\\nMendozaberg, OK 22690\n",
       "1           1076 Carney Fort Apt. 347\\nLoganmouth, SD 05113\n",
       "2           87025 Mark Dale Apt. 269\\nNew Sabrina, WV 05113\n",
       "3                     823 Reid Ford\\nDelacruzside, MA 00813\n",
       "4                      679 Luna Roads\\nGreggshire, VA 11650\n",
       "                                ...                        \n",
       "396025       12951 Williams Crossing\\nJohnnyville, DC 30723\n",
       "396026    0114 Fowler Field Suite 028\\nRachelborough, LA...\n",
       "396027     953 Matthew Points Suite 414\\nReedfort, NY 70466\n",
       "396028    7843 Blake Freeway Apt. 229\\nNew Michael, FL 2...\n",
       "396029          787 Michelle Causeway\\nBriannaton, AR 48052\n",
       "Name: address, Length: 396030, dtype: object"
      ]
     },
     "execution_count": 34,
     "metadata": {},
     "output_type": "execute_result"
    }
   ],
   "source": [
    "#lets apply label encoder to all columns and remove useless columns\n",
    "df.address"
   ]
  },
  {
   "cell_type": "code",
   "execution_count": 35,
   "id": "7d943487",
   "metadata": {},
   "outputs": [
    {
     "data": {
      "text/plain": [
       "0         09622\n",
       "1         31150\n",
       "2         31150\n",
       "3         31800\n",
       "4         05611\n",
       "          ...  \n",
       "396025    32703\n",
       "396026    31150\n",
       "396027    66407\n",
       "396028    79592\n",
       "396029    25084\n",
       "Name: pincode, Length: 396030, dtype: object"
      ]
     },
     "execution_count": 35,
     "metadata": {},
     "output_type": "execute_result"
    }
   ],
   "source": [
    "#here pincode can be useless, lets extract this\n",
    "#remove white spaces\n",
    "df.address=df.address.str.strip()\n",
    "df['pincode']=df.address.str.slice(start=-1,stop=-6,step=-1)\n",
    "df.pincode"
   ]
  },
  {
   "cell_type": "code",
   "execution_count": 36,
   "id": "802cecff",
   "metadata": {},
   "outputs": [
    {
     "data": {
      "text/plain": [
       "0         22690\n",
       "1         05113\n",
       "2         05113\n",
       "3         00813\n",
       "4         11650\n",
       "          ...  \n",
       "396025    30723\n",
       "396026    05113\n",
       "396027    70466\n",
       "396028    29597\n",
       "396029    48052\n",
       "Name: pincode, Length: 396030, dtype: object"
      ]
     },
     "execution_count": 36,
     "metadata": {},
     "output_type": "execute_result"
    }
   ],
   "source": [
    "#now reverse the pincode\n",
    "df.pincode=df.pincode.str[::-1]\n",
    "df.pincode"
   ]
  },
  {
   "cell_type": "code",
   "execution_count": 37,
   "id": "9df61f2c",
   "metadata": {},
   "outputs": [
    {
     "data": {
      "text/plain": [
       "70466    56985\n",
       "30723    56546\n",
       "22690    56527\n",
       "48052    55917\n",
       "00813    45824\n",
       "29597    45471\n",
       "05113    45402\n",
       "11650    11226\n",
       "93700    11151\n",
       "86630    10981\n",
       "Name: pincode, dtype: int64"
      ]
     },
     "execution_count": 37,
     "metadata": {},
     "output_type": "execute_result"
    }
   ],
   "source": [
    "#now lets check about this pincode column\n",
    "df.pincode.value_counts()"
   ]
  },
  {
   "cell_type": "code",
   "execution_count": 38,
   "id": "1cd1100a",
   "metadata": {},
   "outputs": [],
   "source": [
    "#soo its a good castegorical column, lets apply label encoder to it now, and drop address column\n",
    "df.drop(columns=['address'],inplace=True)"
   ]
  },
  {
   "cell_type": "code",
   "execution_count": 39,
   "id": "809bc319",
   "metadata": {},
   "outputs": [
    {
     "data": {
      "text/plain": [
       "Index(['loan_amnt', 'term', 'int_rate', 'installment', 'grade', 'sub_grade',\n",
       "       'emp_length', 'home_ownership', 'annual_inc', 'verification_status',\n",
       "       'issue_d', 'loan_status', 'purpose', 'title', 'dti', 'earliest_cr_line',\n",
       "       'open_acc', 'pub_rec', 'revol_bal', 'revol_util', 'total_acc',\n",
       "       'initial_list_status', 'application_type', 'mort_acc',\n",
       "       'pub_rec_bankruptcies', 'pincode'],\n",
       "      dtype='object')"
      ]
     },
     "execution_count": 39,
     "metadata": {},
     "output_type": "execute_result"
    }
   ],
   "source": [
    "df.columns"
   ]
  },
  {
   "cell_type": "code",
   "execution_count": 40,
   "id": "d2b4010a",
   "metadata": {},
   "outputs": [],
   "source": [
    "from sklearn.preprocessing import LabelEncoder\n",
    "encoder = LabelEncoder()\n",
    "df.pincode=encoder.fit_transform(df.pincode)"
   ]
  },
  {
   "cell_type": "code",
   "execution_count": 41,
   "id": "70b8c703",
   "metadata": {},
   "outputs": [
    {
     "data": {
      "text/plain": [
       "7    56985\n",
       "5    56546\n",
       "3    56527\n",
       "6    55917\n",
       "0    45824\n",
       "4    45471\n",
       "1    45402\n",
       "2    11226\n",
       "9    11151\n",
       "8    10981\n",
       "Name: pincode, dtype: int64"
      ]
     },
     "execution_count": 41,
     "metadata": {},
     "output_type": "execute_result"
    }
   ],
   "source": [
    "df.pincode.value_counts()"
   ]
  },
  {
   "cell_type": "code",
   "execution_count": 42,
   "id": "83dc62fa",
   "metadata": {},
   "outputs": [
    {
     "data": {
      "text/plain": [
       "0.0    350915\n",
       "1.0     42790\n",
       "2.0      1847\n",
       "3.0       351\n",
       "4.0        82\n",
       "5.0        32\n",
       "6.0         7\n",
       "7.0         4\n",
       "8.0         2\n",
       "Name: pub_rec_bankruptcies, dtype: int64"
      ]
     },
     "execution_count": 42,
     "metadata": {},
     "output_type": "execute_result"
    }
   ],
   "source": [
    "df.pub_rec_bankruptcies.value_counts()\n",
    "#this column is fine"
   ]
  },
  {
   "cell_type": "code",
   "execution_count": 43,
   "id": "7781ce6f",
   "metadata": {},
   "outputs": [],
   "source": [
    "from sklearn.preprocessing import LabelEncoder\n",
    "encoder = LabelEncoder()\n",
    "df.application_type=encoder.fit_transform(df.application_type)"
   ]
  },
  {
   "cell_type": "code",
   "execution_count": 44,
   "id": "ec1d0cb3",
   "metadata": {},
   "outputs": [
    {
     "data": {
      "text/plain": [
       "1    395319\n",
       "2       425\n",
       "0       286\n",
       "Name: application_type, dtype: int64"
      ]
     },
     "execution_count": 44,
     "metadata": {},
     "output_type": "execute_result"
    }
   ],
   "source": [
    "df.application_type.value_counts()"
   ]
  },
  {
   "cell_type": "code",
   "execution_count": 45,
   "id": "e9540881",
   "metadata": {},
   "outputs": [
    {
     "data": {
      "text/plain": [
       "f    238066\n",
       "w    157964\n",
       "Name: initial_list_status, dtype: int64"
      ]
     },
     "execution_count": 45,
     "metadata": {},
     "output_type": "execute_result"
    }
   ],
   "source": [
    "df.initial_list_status.value_counts()"
   ]
  },
  {
   "cell_type": "code",
   "execution_count": 46,
   "id": "c77e04f3",
   "metadata": {},
   "outputs": [],
   "source": [
    "from sklearn.preprocessing import LabelEncoder\n",
    "encoder = LabelEncoder()\n",
    "df.initial_list_status=encoder.fit_transform(df.initial_list_status)"
   ]
  },
  {
   "cell_type": "code",
   "execution_count": 47,
   "id": "7502b199",
   "metadata": {},
   "outputs": [
    {
     "data": {
      "text/plain": [
       "0    238066\n",
       "1    157964\n",
       "Name: initial_list_status, dtype: int64"
      ]
     },
     "execution_count": 47,
     "metadata": {},
     "output_type": "execute_result"
    }
   ],
   "source": [
    "df.initial_list_status.value_counts()"
   ]
  },
  {
   "cell_type": "code",
   "execution_count": 48,
   "id": "4e25554b",
   "metadata": {},
   "outputs": [
    {
     "data": {
      "text/plain": [
       "21.0     14280\n",
       "22.0     14260\n",
       "20.0     14228\n",
       "23.0     13923\n",
       "24.0     13878\n",
       "         ...  \n",
       "110.0        1\n",
       "129.0        1\n",
       "135.0        1\n",
       "104.0        1\n",
       "103.0        1\n",
       "Name: total_acc, Length: 118, dtype: int64"
      ]
     },
     "execution_count": 48,
     "metadata": {},
     "output_type": "execute_result"
    }
   ],
   "source": [
    "df.total_acc.value_counts()\n",
    "#this column already fine"
   ]
  },
  {
   "cell_type": "code",
   "execution_count": 49,
   "id": "d1f06175",
   "metadata": {},
   "outputs": [
    {
     "data": {
      "text/plain": [
       "0         36369.0\n",
       "1         20131.0\n",
       "2         11987.0\n",
       "3          5472.0\n",
       "4         24584.0\n",
       "           ...   \n",
       "396025     1990.0\n",
       "396026    43263.0\n",
       "396027    32704.0\n",
       "396028    15704.0\n",
       "396029     4292.0\n",
       "Name: revol_bal, Length: 396030, dtype: float64"
      ]
     },
     "execution_count": 49,
     "metadata": {},
     "output_type": "execute_result"
    }
   ],
   "source": [
    "df.revol_bal\n",
    "#this column already fine"
   ]
  },
  {
   "cell_type": "code",
   "execution_count": 50,
   "id": "42656325",
   "metadata": {},
   "outputs": [
    {
     "data": {
      "text/plain": [
       "0.0     338272\n",
       "1.0      49739\n",
       "2.0       5476\n",
       "3.0       1521\n",
       "4.0        527\n",
       "5.0        237\n",
       "6.0        122\n",
       "7.0         56\n",
       "8.0         34\n",
       "9.0         12\n",
       "10.0        11\n",
       "11.0         8\n",
       "13.0         4\n",
       "12.0         4\n",
       "19.0         2\n",
       "40.0         1\n",
       "17.0         1\n",
       "86.0         1\n",
       "24.0         1\n",
       "15.0         1\n",
       "Name: pub_rec, dtype: int64"
      ]
     },
     "execution_count": 50,
     "metadata": {},
     "output_type": "execute_result"
    }
   ],
   "source": [
    "df.pub_rec.value_counts()\n",
    "#this column also fine"
   ]
  },
  {
   "cell_type": "code",
   "execution_count": 51,
   "id": "158b6203",
   "metadata": {},
   "outputs": [
    {
     "data": {
      "text/plain": [
       "9.0     36779\n",
       "10.0    35441\n",
       "8.0     35137\n",
       "11.0    32695\n",
       "7.0     31328\n",
       "        ...  \n",
       "55.0        2\n",
       "76.0        2\n",
       "58.0        1\n",
       "57.0        1\n",
       "90.0        1\n",
       "Name: open_acc, Length: 61, dtype: int64"
      ]
     },
     "execution_count": 51,
     "metadata": {},
     "output_type": "execute_result"
    }
   ],
   "source": [
    "df.open_acc.value_counts()\n",
    "#this column is fine"
   ]
  },
  {
   "cell_type": "code",
   "execution_count": 52,
   "id": "7c53032d",
   "metadata": {},
   "outputs": [],
   "source": [
    "df.earliest_cr_line.value_counts()\n",
    "#this data is useful\n",
    "#we need to convert this into numerical values\n",
    "#we can subtract number of months or year, from current date to make a numerical value out of it\n",
    "df.earliest_cr_line=pd.to_datetime(df.earliest_cr_line)"
   ]
  },
  {
   "cell_type": "code",
   "execution_count": 53,
   "id": "89799b20",
   "metadata": {},
   "outputs": [],
   "source": [
    "def convertToDifferenceInYears(data):\n",
    "    return 2022-data.year\n",
    "df.earliest_cr_line=df.earliest_cr_line.apply(convertToDifferenceInYears)"
   ]
  },
  {
   "cell_type": "code",
   "execution_count": 54,
   "id": "fccb5e8d",
   "metadata": {},
   "outputs": [
    {
     "data": {
      "text/plain": [
       "0         32\n",
       "1         18\n",
       "2         15\n",
       "3         16\n",
       "4         23\n",
       "          ..\n",
       "396025    18\n",
       "396026    16\n",
       "396027    25\n",
       "396028    32\n",
       "396029    24\n",
       "Name: earliest_cr_line, Length: 396030, dtype: int64"
      ]
     },
     "execution_count": 54,
     "metadata": {},
     "output_type": "execute_result"
    }
   ],
   "source": [
    "df.earliest_cr_line"
   ]
  },
  {
   "cell_type": "code",
   "execution_count": 55,
   "id": "0e6782cd",
   "metadata": {},
   "outputs": [
    {
     "data": {
      "text/plain": [
       "0         26.24\n",
       "1         22.05\n",
       "2         12.79\n",
       "3          2.60\n",
       "4         33.95\n",
       "          ...  \n",
       "396025    15.63\n",
       "396026    21.45\n",
       "396027    17.56\n",
       "396028    15.88\n",
       "396029     8.32\n",
       "Name: dti, Length: 396030, dtype: float64"
      ]
     },
     "execution_count": 55,
     "metadata": {},
     "output_type": "execute_result"
    }
   ],
   "source": [
    "df.dti"
   ]
  },
  {
   "cell_type": "code",
   "execution_count": 56,
   "id": "aec4f100",
   "metadata": {},
   "outputs": [
    {
     "data": {
      "text/plain": [
       "0                        Vacation\n",
       "1              Debt consolidation\n",
       "2         Credit card refinancing\n",
       "3         Credit card refinancing\n",
       "4           Credit Card Refinance\n",
       "                   ...           \n",
       "396025         Debt consolidation\n",
       "396026         Debt consolidation\n",
       "396027       pay off credit cards\n",
       "396028              Loanforpayoff\n",
       "396029          Toxic Debt Payoff\n",
       "Name: title, Length: 396030, dtype: object"
      ]
     },
     "execution_count": 56,
     "metadata": {},
     "output_type": "execute_result"
    }
   ],
   "source": [
    "df.title\n",
    "#convert these to categorical"
   ]
  },
  {
   "cell_type": "code",
   "execution_count": 57,
   "id": "6b93ec09",
   "metadata": {},
   "outputs": [],
   "source": [
    "from sklearn.preprocessing import LabelEncoder\n",
    "encoder = LabelEncoder()\n",
    "df.title=encoder.fit_transform(df.title)"
   ]
  },
  {
   "cell_type": "code",
   "execution_count": 58,
   "id": "419936ca",
   "metadata": {},
   "outputs": [
    {
     "data": {
      "text/plain": [
       "debt_consolidation    234507\n",
       "credit_card            83019\n",
       "home_improvement       24030\n",
       "other                  21185\n",
       "major_purchase          8790\n",
       "small_business          5701\n",
       "car                     4697\n",
       "medical                 4196\n",
       "moving                  2854\n",
       "vacation                2452\n",
       "house                   2201\n",
       "wedding                 1812\n",
       "renewable_energy         329\n",
       "educational              257\n",
       "Name: purpose, dtype: int64"
      ]
     },
     "execution_count": 58,
     "metadata": {},
     "output_type": "execute_result"
    }
   ],
   "source": [
    "df.purpose.value_counts()"
   ]
  },
  {
   "cell_type": "code",
   "execution_count": 59,
   "id": "ff8c1378",
   "metadata": {},
   "outputs": [],
   "source": [
    "from sklearn.preprocessing import LabelEncoder\n",
    "encoder = LabelEncoder()\n",
    "df.purpose=encoder.fit_transform(df.purpose)"
   ]
  },
  {
   "cell_type": "code",
   "execution_count": 60,
   "id": "70cc2fd4",
   "metadata": {},
   "outputs": [
    {
     "data": {
      "text/plain": [
       "Fully Paid     318357\n",
       "Charged Off     77673\n",
       "Name: loan_status, dtype: int64"
      ]
     },
     "execution_count": 60,
     "metadata": {},
     "output_type": "execute_result"
    }
   ],
   "source": [
    "df.loan_status.value_counts()"
   ]
  },
  {
   "cell_type": "code",
   "execution_count": 61,
   "id": "194b25ad",
   "metadata": {},
   "outputs": [],
   "source": [
    "from sklearn.preprocessing import LabelEncoder\n",
    "encoder = LabelEncoder()\n",
    "df.loan_status=encoder.fit_transform(df.loan_status)"
   ]
  },
  {
   "cell_type": "code",
   "execution_count": 62,
   "id": "b35deda3",
   "metadata": {},
   "outputs": [
    {
     "data": {
      "text/plain": [
       "1    318357\n",
       "0     77673\n",
       "Name: loan_status, dtype: int64"
      ]
     },
     "execution_count": 62,
     "metadata": {},
     "output_type": "execute_result"
    }
   ],
   "source": [
    "df.loan_status.value_counts()"
   ]
  },
  {
   "cell_type": "code",
   "execution_count": 63,
   "id": "58a8e621",
   "metadata": {},
   "outputs": [
    {
     "data": {
      "text/plain": [
       "Oct-2014    14846\n",
       "Jul-2014    12609\n",
       "Jan-2015    11705\n",
       "Dec-2013    10618\n",
       "Nov-2013    10496\n",
       "            ...  \n",
       "Jul-2007       26\n",
       "Sep-2008       25\n",
       "Nov-2007       22\n",
       "Sep-2007       15\n",
       "Jun-2007        1\n",
       "Name: issue_d, Length: 115, dtype: int64"
      ]
     },
     "execution_count": 63,
     "metadata": {},
     "output_type": "execute_result"
    }
   ],
   "source": [
    "df.issue_d.value_counts()\n",
    "#there should be some trend based on month\n"
   ]
  },
  {
   "cell_type": "code",
   "execution_count": 64,
   "id": "8ea7eb18",
   "metadata": {},
   "outputs": [],
   "source": [
    "df.issue_d=pd.to_datetime(df.issue_d)"
   ]
  },
  {
   "cell_type": "code",
   "execution_count": 65,
   "id": "c54c5d73",
   "metadata": {},
   "outputs": [],
   "source": [
    "df['issue_month']=df.issue_d.apply(lambda x:x.month)"
   ]
  },
  {
   "cell_type": "code",
   "execution_count": 66,
   "id": "4aff739d",
   "metadata": {},
   "outputs": [
    {
     "data": {
      "text/plain": [
       "<AxesSubplot:>"
      ]
     },
     "execution_count": 66,
     "metadata": {},
     "output_type": "execute_result"
    },
    {
     "data": {
      "image/png": "[encoded data removed]",
      "text/plain": [
       "<Figure size 432x288 with 1 Axes>"
      ]
     },
     "metadata": {
      "needs_background": "light"
     },
     "output_type": "display_data"
    }
   ],
   "source": [
    "df.issue_month.value_counts().sort_index(ascending=True).plot()"
   ]
  },
  {
   "cell_type": "code",
   "execution_count": 67,
   "id": "726e2fa9",
   "metadata": {},
   "outputs": [],
   "source": [
    "df['issue_year']=df.issue_d.apply(lambda x:x.year)"
   ]
  },
  {
   "cell_type": "code",
   "execution_count": 68,
   "id": "a124ad43",
   "metadata": {},
   "outputs": [
    {
     "data": {
      "text/plain": [
       "<AxesSubplot:>"
      ]
     },
     "execution_count": 68,
     "metadata": {},
     "output_type": "execute_result"
    },
    {
     "data": {
      "image/png": "[encoded data removed]",
      "text/plain": [
       "<Figure size 432x288 with 1 Axes>"
      ]
     },
     "metadata": {
      "needs_background": "light"
     },
     "output_type": "display_data"
    }
   ],
   "source": [
    "df.issue_year.value_counts().sort_index(ascending=True).plot()"
   ]
  },
  {
   "cell_type": "code",
   "execution_count": 69,
   "id": "bcd9b923",
   "metadata": {},
   "outputs": [],
   "source": [
    "df.drop(columns=['issue_d'],inplace=True)"
   ]
  },
  {
   "cell_type": "code",
   "execution_count": 70,
   "id": "451b30f0",
   "metadata": {},
   "outputs": [
    {
     "data": {
      "text/plain": [
       "Verified           139563\n",
       "Source Verified    131385\n",
       "Not Verified       125082\n",
       "Name: verification_status, dtype: int64"
      ]
     },
     "execution_count": 70,
     "metadata": {},
     "output_type": "execute_result"
    }
   ],
   "source": [
    "df.verification_status.value_counts()"
   ]
  },
  {
   "cell_type": "code",
   "execution_count": 71,
   "id": "edc85ecf",
   "metadata": {},
   "outputs": [],
   "source": [
    "from sklearn.preprocessing import LabelEncoder\n",
    "encoder = LabelEncoder()\n",
    "df.verification_status=encoder.fit_transform(df.verification_status)"
   ]
  },
  {
   "cell_type": "code",
   "execution_count": 72,
   "id": "bd4b73f8",
   "metadata": {},
   "outputs": [
    {
     "data": {
      "text/plain": [
       "MORTGAGE    198348\n",
       "RENT        159790\n",
       "OWN          37746\n",
       "OTHER          112\n",
       "NONE            31\n",
       "ANY              3\n",
       "Name: home_ownership, dtype: int64"
      ]
     },
     "execution_count": 72,
     "metadata": {},
     "output_type": "execute_result"
    }
   ],
   "source": [
    "df.home_ownership.value_counts()"
   ]
  },
  {
   "cell_type": "code",
   "execution_count": 73,
   "id": "b3ef09f9",
   "metadata": {},
   "outputs": [],
   "source": [
    "from sklearn.preprocessing import LabelEncoder\n",
    "encoder = LabelEncoder()\n",
    "df.home_ownership=encoder.fit_transform(df.home_ownership)"
   ]
  },
  {
   "cell_type": "code",
   "execution_count": 74,
   "id": "e6bca293",
   "metadata": {},
   "outputs": [
    {
     "data": {
      "text/plain": [
       "1    198348\n",
       "5    159790\n",
       "4     37746\n",
       "3       112\n",
       "2        31\n",
       "0         3\n",
       "Name: home_ownership, dtype: int64"
      ]
     },
     "execution_count": 74,
     "metadata": {},
     "output_type": "execute_result"
    }
   ],
   "source": [
    "df.home_ownership.value_counts()"
   ]
  },
  {
   "cell_type": "code",
   "execution_count": 75,
   "id": "cfa6e01e",
   "metadata": {},
   "outputs": [
    {
     "data": {
      "text/plain": [
       "B3    26655\n",
       "B4    25601\n",
       "C1    23662\n",
       "C2    22580\n",
       "B2    22495\n",
       "B5    22085\n",
       "C3    21221\n",
       "C4    20280\n",
       "B1    19182\n",
       "A5    18526\n",
       "C5    18244\n",
       "D1    15993\n",
       "A4    15789\n",
       "D2    13951\n",
       "D3    12223\n",
       "D4    11657\n",
       "A3    10576\n",
       "A1     9729\n",
       "D5     9700\n",
       "A2     9567\n",
       "E1     7917\n",
       "E2     7431\n",
       "E3     6207\n",
       "E4     5361\n",
       "E5     4572\n",
       "F1     3536\n",
       "F2     2766\n",
       "F3     2286\n",
       "F4     1787\n",
       "F5     1397\n",
       "G1     1058\n",
       "G2      754\n",
       "G3      552\n",
       "G4      374\n",
       "G5      316\n",
       "Name: sub_grade, dtype: int64"
      ]
     },
     "execution_count": 75,
     "metadata": {},
     "output_type": "execute_result"
    }
   ],
   "source": [
    "df.sub_grade.value_counts()"
   ]
  },
  {
   "cell_type": "code",
   "execution_count": 76,
   "id": "d80f1fba",
   "metadata": {},
   "outputs": [],
   "source": [
    "from sklearn.preprocessing import LabelEncoder\n",
    "encoder = LabelEncoder()\n",
    "df.sub_grade=encoder.fit_transform(df.sub_grade)"
   ]
  },
  {
   "cell_type": "code",
   "execution_count": 77,
   "id": "20ef970a",
   "metadata": {},
   "outputs": [
    {
     "data": {
      "text/plain": [
       "B    116018\n",
       "C    105987\n",
       "A     64187\n",
       "D     63524\n",
       "E     31488\n",
       "F     11772\n",
       "G      3054\n",
       "Name: grade, dtype: int64"
      ]
     },
     "execution_count": 77,
     "metadata": {},
     "output_type": "execute_result"
    }
   ],
   "source": [
    "df.grade.value_counts()"
   ]
  },
  {
   "cell_type": "code",
   "execution_count": 78,
   "id": "31ccc04a",
   "metadata": {},
   "outputs": [],
   "source": [
    "from sklearn.preprocessing import LabelEncoder\n",
    "encoder = LabelEncoder()\n",
    "df.grade=encoder.fit_transform(df.grade)"
   ]
  },
  {
   "cell_type": "code",
   "execution_count": 79,
   "id": "6575f68f",
   "metadata": {},
   "outputs": [],
   "source": [
    "df.term=pd.to_numeric(df.term.str[0:3])"
   ]
  },
  {
   "cell_type": "code",
   "execution_count": 80,
   "id": "1d56b9f2",
   "metadata": {},
   "outputs": [
    {
     "data": {
      "text/plain": [
       "36    302005\n",
       "60     94025\n",
       "Name: term, dtype: int64"
      ]
     },
     "execution_count": 80,
     "metadata": {},
     "output_type": "execute_result"
    }
   ],
   "source": [
    "df.term.value_counts()"
   ]
  },
  {
   "cell_type": "code",
   "execution_count": 81,
   "id": "2996d6de",
   "metadata": {},
   "outputs": [
    {
     "data": {
      "text/plain": [
       "0         10000.0\n",
       "1          8000.0\n",
       "2         15600.0\n",
       "3          7200.0\n",
       "4         24375.0\n",
       "           ...   \n",
       "396025    10000.0\n",
       "396026    21000.0\n",
       "396027     5000.0\n",
       "396028    21000.0\n",
       "396029     2000.0\n",
       "Name: loan_amnt, Length: 396030, dtype: float64"
      ]
     },
     "execution_count": 81,
     "metadata": {},
     "output_type": "execute_result"
    }
   ],
   "source": [
    "df.loan_amnt"
   ]
  },
  {
   "cell_type": "code",
   "execution_count": 82,
   "id": "4fa76340",
   "metadata": {},
   "outputs": [
    {
     "data": {
      "text/html": [
       "<div>\n",
       "<style scoped>\n",
       "    .dataframe tbody tr th:only-of-type {\n",
       "        vertical-align: middle;\n",
       "    }\n",
       "\n",
       "    .dataframe tbody tr th {\n",
       "        vertical-align: top;\n",
       "    }\n",
       "\n",
       "    .dataframe thead th {\n",
       "        text-align: right;\n",
       "    }\n",
       "</style>\n",
       "<table border=\"1\" class=\"dataframe\">\n",
       "  <thead>\n",
       "    <tr style=\"text-align: right;\">\n",
       "      <th></th>\n",
       "      <th>loan_amnt</th>\n",
       "      <th>term</th>\n",
       "      <th>int_rate</th>\n",
       "      <th>installment</th>\n",
       "      <th>grade</th>\n",
       "      <th>sub_grade</th>\n",
       "      <th>emp_length</th>\n",
       "      <th>home_ownership</th>\n",
       "      <th>annual_inc</th>\n",
       "      <th>verification_status</th>\n",
       "      <th>...</th>\n",
       "      <th>revol_bal</th>\n",
       "      <th>revol_util</th>\n",
       "      <th>total_acc</th>\n",
       "      <th>initial_list_status</th>\n",
       "      <th>application_type</th>\n",
       "      <th>mort_acc</th>\n",
       "      <th>pub_rec_bankruptcies</th>\n",
       "      <th>pincode</th>\n",
       "      <th>issue_month</th>\n",
       "      <th>issue_year</th>\n",
       "    </tr>\n",
       "  </thead>\n",
       "  <tbody>\n",
       "    <tr>\n",
       "      <th>0</th>\n",
       "      <td>10000.0</td>\n",
       "      <td>36</td>\n",
       "      <td>11.44</td>\n",
       "      <td>329.48</td>\n",
       "      <td>1</td>\n",
       "      <td>8</td>\n",
       "      <td>10.0</td>\n",
       "      <td>5</td>\n",
       "      <td>117000.0</td>\n",
       "      <td>0</td>\n",
       "      <td>...</td>\n",
       "      <td>36369.0</td>\n",
       "      <td>41.8</td>\n",
       "      <td>25.0</td>\n",
       "      <td>1</td>\n",
       "      <td>1</td>\n",
       "      <td>0.0</td>\n",
       "      <td>0.0</td>\n",
       "      <td>3</td>\n",
       "      <td>1</td>\n",
       "      <td>2015</td>\n",
       "    </tr>\n",
       "    <tr>\n",
       "      <th>1</th>\n",
       "      <td>8000.0</td>\n",
       "      <td>36</td>\n",
       "      <td>11.99</td>\n",
       "      <td>265.68</td>\n",
       "      <td>1</td>\n",
       "      <td>9</td>\n",
       "      <td>4.0</td>\n",
       "      <td>1</td>\n",
       "      <td>65000.0</td>\n",
       "      <td>0</td>\n",
       "      <td>...</td>\n",
       "      <td>20131.0</td>\n",
       "      <td>53.3</td>\n",
       "      <td>27.0</td>\n",
       "      <td>0</td>\n",
       "      <td>1</td>\n",
       "      <td>3.0</td>\n",
       "      <td>0.0</td>\n",
       "      <td>1</td>\n",
       "      <td>1</td>\n",
       "      <td>2015</td>\n",
       "    </tr>\n",
       "    <tr>\n",
       "      <th>2</th>\n",
       "      <td>15600.0</td>\n",
       "      <td>36</td>\n",
       "      <td>10.49</td>\n",
       "      <td>506.97</td>\n",
       "      <td>1</td>\n",
       "      <td>7</td>\n",
       "      <td>0.0</td>\n",
       "      <td>5</td>\n",
       "      <td>43057.0</td>\n",
       "      <td>1</td>\n",
       "      <td>...</td>\n",
       "      <td>11987.0</td>\n",
       "      <td>92.2</td>\n",
       "      <td>26.0</td>\n",
       "      <td>0</td>\n",
       "      <td>1</td>\n",
       "      <td>0.0</td>\n",
       "      <td>0.0</td>\n",
       "      <td>1</td>\n",
       "      <td>1</td>\n",
       "      <td>2015</td>\n",
       "    </tr>\n",
       "    <tr>\n",
       "      <th>3</th>\n",
       "      <td>7200.0</td>\n",
       "      <td>36</td>\n",
       "      <td>6.49</td>\n",
       "      <td>220.65</td>\n",
       "      <td>0</td>\n",
       "      <td>1</td>\n",
       "      <td>6.0</td>\n",
       "      <td>5</td>\n",
       "      <td>54000.0</td>\n",
       "      <td>0</td>\n",
       "      <td>...</td>\n",
       "      <td>5472.0</td>\n",
       "      <td>21.5</td>\n",
       "      <td>13.0</td>\n",
       "      <td>0</td>\n",
       "      <td>1</td>\n",
       "      <td>0.0</td>\n",
       "      <td>0.0</td>\n",
       "      <td>0</td>\n",
       "      <td>11</td>\n",
       "      <td>2014</td>\n",
       "    </tr>\n",
       "    <tr>\n",
       "      <th>4</th>\n",
       "      <td>24375.0</td>\n",
       "      <td>60</td>\n",
       "      <td>17.27</td>\n",
       "      <td>609.33</td>\n",
       "      <td>2</td>\n",
       "      <td>14</td>\n",
       "      <td>9.0</td>\n",
       "      <td>1</td>\n",
       "      <td>55000.0</td>\n",
       "      <td>2</td>\n",
       "      <td>...</td>\n",
       "      <td>24584.0</td>\n",
       "      <td>69.8</td>\n",
       "      <td>43.0</td>\n",
       "      <td>0</td>\n",
       "      <td>1</td>\n",
       "      <td>1.0</td>\n",
       "      <td>0.0</td>\n",
       "      <td>2</td>\n",
       "      <td>4</td>\n",
       "      <td>2013</td>\n",
       "    </tr>\n",
       "  </tbody>\n",
       "</table>\n",
       "<p>5 rows × 27 columns</p>\n",
       "</div>"
      ],
      "text/plain": [
       "   loan_amnt  term  int_rate  installment  grade  sub_grade  emp_length  \\\n",
       "0    10000.0    36     11.44       329.48      1          8        10.0   \n",
       "1     8000.0    36     11.99       265.68      1          9         4.0   \n",
       "2    15600.0    36     10.49       506.97      1          7         0.0   \n",
       "3     7200.0    36      6.49       220.65      0          1         6.0   \n",
       "4    24375.0    60     17.27       609.33      2         14         9.0   \n",
       "\n",
       "   home_ownership  annual_inc  verification_status  ...  revol_bal  \\\n",
       "0               5    117000.0                    0  ...    36369.0   \n",
       "1               1     65000.0                    0  ...    20131.0   \n",
       "2               5     43057.0                    1  ...    11987.0   \n",
       "3               5     54000.0                    0  ...     5472.0   \n",
       "4               1     55000.0                    2  ...    24584.0   \n",
       "\n",
       "   revol_util  total_acc  initial_list_status  application_type  mort_acc  \\\n",
       "0        41.8       25.0                    1                 1       0.0   \n",
       "1        53.3       27.0                    0                 1       3.0   \n",
       "2        92.2       26.0                    0                 1       0.0   \n",
       "3        21.5       13.0                    0                 1       0.0   \n",
       "4        69.8       43.0                    0                 1       1.0   \n",
       "\n",
       "   pub_rec_bankruptcies  pincode  issue_month  issue_year  \n",
       "0                   0.0        3            1        2015  \n",
       "1                   0.0        1            1        2015  \n",
       "2                   0.0        1            1        2015  \n",
       "3                   0.0        0           11        2014  \n",
       "4                   0.0        2            4        2013  \n",
       "\n",
       "[5 rows x 27 columns]"
      ]
     },
     "execution_count": 82,
     "metadata": {},
     "output_type": "execute_result"
    }
   ],
   "source": [
    "df.head()"
   ]
  },
  {
   "cell_type": "code",
   "execution_count": 83,
   "id": "6bd7ae83",
   "metadata": {},
   "outputs": [
    {
     "data": {
      "text/plain": [
       "Index(['loan_amnt', 'term', 'int_rate', 'installment', 'grade', 'sub_grade',\n",
       "       'emp_length', 'home_ownership', 'annual_inc', 'verification_status',\n",
       "       'loan_status', 'purpose', 'title', 'dti', 'earliest_cr_line',\n",
       "       'open_acc', 'pub_rec', 'revol_bal', 'revol_util', 'total_acc',\n",
       "       'initial_list_status', 'application_type', 'mort_acc',\n",
       "       'pub_rec_bankruptcies', 'pincode', 'issue_month', 'issue_year'],\n",
       "      dtype='object')"
      ]
     },
     "execution_count": 83,
     "metadata": {},
     "output_type": "execute_result"
    }
   ],
   "source": [
    "from sklearn.model_selection import train_test_split\n",
    "df.columns"
   ]
  },
  {
   "cell_type": "code",
   "execution_count": 84,
   "id": "a1af731f",
   "metadata": {},
   "outputs": [],
   "source": [
    "X=df[['loan_amnt', 'term', 'int_rate', 'installment', 'grade', 'sub_grade',\n",
    "       'emp_length', 'home_ownership', 'annual_inc', 'verification_status','purpose', 'title', 'dti', 'earliest_cr_line',\n",
    "       'open_acc', 'pub_rec', 'revol_bal', 'revol_util', 'total_acc',\n",
    "       'initial_list_status', 'application_type', 'mort_acc',\n",
    "       'pub_rec_bankruptcies', 'pincode', 'issue_month', 'issue_year']]\n",
    "y=df['loan_status']\n",
    "X_train, X_test, y_train, y_test = train_test_split(X, y, test_size=0.33, random_state=101)"
   ]
  },
  {
   "cell_type": "code",
   "execution_count": 85,
   "id": "fbb98e98",
   "metadata": {},
   "outputs": [
    {
     "data": {
      "text/html": [
       "<div>\n",
       "<style scoped>\n",
       "    .dataframe tbody tr th:only-of-type {\n",
       "        vertical-align: middle;\n",
       "    }\n",
       "\n",
       "    .dataframe tbody tr th {\n",
       "        vertical-align: top;\n",
       "    }\n",
       "\n",
       "    .dataframe thead th {\n",
       "        text-align: right;\n",
       "    }\n",
       "</style>\n",
       "<table border=\"1\" class=\"dataframe\">\n",
       "  <thead>\n",
       "    <tr style=\"text-align: right;\">\n",
       "      <th></th>\n",
       "      <th>loan_amnt</th>\n",
       "      <th>term</th>\n",
       "      <th>int_rate</th>\n",
       "      <th>installment</th>\n",
       "      <th>grade</th>\n",
       "      <th>sub_grade</th>\n",
       "      <th>emp_length</th>\n",
       "      <th>home_ownership</th>\n",
       "      <th>annual_inc</th>\n",
       "      <th>verification_status</th>\n",
       "      <th>...</th>\n",
       "      <th>revol_bal</th>\n",
       "      <th>revol_util</th>\n",
       "      <th>total_acc</th>\n",
       "      <th>initial_list_status</th>\n",
       "      <th>application_type</th>\n",
       "      <th>mort_acc</th>\n",
       "      <th>pub_rec_bankruptcies</th>\n",
       "      <th>pincode</th>\n",
       "      <th>issue_month</th>\n",
       "      <th>issue_year</th>\n",
       "    </tr>\n",
       "  </thead>\n",
       "  <tbody>\n",
       "    <tr>\n",
       "      <th>182133</th>\n",
       "      <td>12550.0</td>\n",
       "      <td>36</td>\n",
       "      <td>18.24</td>\n",
       "      <td>455.23</td>\n",
       "      <td>3</td>\n",
       "      <td>19</td>\n",
       "      <td>10.0</td>\n",
       "      <td>4</td>\n",
       "      <td>35000.0</td>\n",
       "      <td>1</td>\n",
       "      <td>...</td>\n",
       "      <td>11184.0</td>\n",
       "      <td>88.8</td>\n",
       "      <td>19.0</td>\n",
       "      <td>1</td>\n",
       "      <td>1</td>\n",
       "      <td>0.0</td>\n",
       "      <td>1.0</td>\n",
       "      <td>0</td>\n",
       "      <td>10</td>\n",
       "      <td>2014</td>\n",
       "    </tr>\n",
       "    <tr>\n",
       "      <th>108458</th>\n",
       "      <td>10425.0</td>\n",
       "      <td>36</td>\n",
       "      <td>22.45</td>\n",
       "      <td>400.57</td>\n",
       "      <td>4</td>\n",
       "      <td>24</td>\n",
       "      <td>6.0</td>\n",
       "      <td>5</td>\n",
       "      <td>52000.0</td>\n",
       "      <td>1</td>\n",
       "      <td>...</td>\n",
       "      <td>4841.0</td>\n",
       "      <td>52.6</td>\n",
       "      <td>6.0</td>\n",
       "      <td>1</td>\n",
       "      <td>1</td>\n",
       "      <td>0.0</td>\n",
       "      <td>0.0</td>\n",
       "      <td>5</td>\n",
       "      <td>5</td>\n",
       "      <td>2014</td>\n",
       "    </tr>\n",
       "    <tr>\n",
       "      <th>199516</th>\n",
       "      <td>28000.0</td>\n",
       "      <td>36</td>\n",
       "      <td>12.35</td>\n",
       "      <td>934.69</td>\n",
       "      <td>1</td>\n",
       "      <td>8</td>\n",
       "      <td>8.0</td>\n",
       "      <td>5</td>\n",
       "      <td>120000.0</td>\n",
       "      <td>2</td>\n",
       "      <td>...</td>\n",
       "      <td>16381.0</td>\n",
       "      <td>54.8</td>\n",
       "      <td>21.0</td>\n",
       "      <td>0</td>\n",
       "      <td>1</td>\n",
       "      <td>0.0</td>\n",
       "      <td>0.0</td>\n",
       "      <td>7</td>\n",
       "      <td>8</td>\n",
       "      <td>2013</td>\n",
       "    </tr>\n",
       "    <tr>\n",
       "      <th>235632</th>\n",
       "      <td>10000.0</td>\n",
       "      <td>36</td>\n",
       "      <td>10.37</td>\n",
       "      <td>324.42</td>\n",
       "      <td>1</td>\n",
       "      <td>7</td>\n",
       "      <td>0.0</td>\n",
       "      <td>1</td>\n",
       "      <td>75000.0</td>\n",
       "      <td>1</td>\n",
       "      <td>...</td>\n",
       "      <td>26739.0</td>\n",
       "      <td>87.7</td>\n",
       "      <td>34.0</td>\n",
       "      <td>0</td>\n",
       "      <td>1</td>\n",
       "      <td>1.0</td>\n",
       "      <td>0.0</td>\n",
       "      <td>2</td>\n",
       "      <td>3</td>\n",
       "      <td>2011</td>\n",
       "    </tr>\n",
       "    <tr>\n",
       "      <th>46507</th>\n",
       "      <td>20000.0</td>\n",
       "      <td>60</td>\n",
       "      <td>14.31</td>\n",
       "      <td>468.59</td>\n",
       "      <td>2</td>\n",
       "      <td>13</td>\n",
       "      <td>10.0</td>\n",
       "      <td>1</td>\n",
       "      <td>123500.0</td>\n",
       "      <td>1</td>\n",
       "      <td>...</td>\n",
       "      <td>14896.0</td>\n",
       "      <td>49.2</td>\n",
       "      <td>45.0</td>\n",
       "      <td>0</td>\n",
       "      <td>1</td>\n",
       "      <td>8.0</td>\n",
       "      <td>0.0</td>\n",
       "      <td>4</td>\n",
       "      <td>12</td>\n",
       "      <td>2014</td>\n",
       "    </tr>\n",
       "  </tbody>\n",
       "</table>\n",
       "<p>5 rows × 26 columns</p>\n",
       "</div>"
      ],
      "text/plain": [
       "        loan_amnt  term  int_rate  installment  grade  sub_grade  emp_length  \\\n",
       "182133    12550.0    36     18.24       455.23      3         19        10.0   \n",
       "108458    10425.0    36     22.45       400.57      4         24         6.0   \n",
       "199516    28000.0    36     12.35       934.69      1          8         8.0   \n",
       "235632    10000.0    36     10.37       324.42      1          7         0.0   \n",
       "46507     20000.0    60     14.31       468.59      2         13        10.0   \n",
       "\n",
       "        home_ownership  annual_inc  verification_status  ...  revol_bal  \\\n",
       "182133               4     35000.0                    1  ...    11184.0   \n",
       "108458               5     52000.0                    1  ...     4841.0   \n",
       "199516               5    120000.0                    2  ...    16381.0   \n",
       "235632               1     75000.0                    1  ...    26739.0   \n",
       "46507                1    123500.0                    1  ...    14896.0   \n",
       "\n",
       "        revol_util  total_acc  initial_list_status  application_type  \\\n",
       "182133        88.8       19.0                    1                 1   \n",
       "108458        52.6        6.0                    1                 1   \n",
       "199516        54.8       21.0                    0                 1   \n",
       "235632        87.7       34.0                    0                 1   \n",
       "46507         49.2       45.0                    0                 1   \n",
       "\n",
       "        mort_acc  pub_rec_bankruptcies  pincode  issue_month  issue_year  \n",
       "182133       0.0                   1.0        0           10        2014  \n",
       "108458       0.0                   0.0        5            5        2014  \n",
       "199516       0.0                   0.0        7            8        2013  \n",
       "235632       1.0                   0.0        2            3        2011  \n",
       "46507        8.0                   0.0        4           12        2014  \n",
       "\n",
       "[5 rows x 26 columns]"
      ]
     },
     "execution_count": 85,
     "metadata": {},
     "output_type": "execute_result"
    }
   ],
   "source": [
    "X_train.head()"
   ]
  },
  {
   "cell_type": "code",
   "execution_count": 118,
   "id": "3347ef59",
   "metadata": {},
   "outputs": [
    {
     "data": {
      "text/plain": [
       "<AxesSubplot:>"
      ]
     },
     "execution_count": 118,
     "metadata": {},
     "output_type": "execute_result"
    },
    {
     "data": {
      "image/png": "[encoded data removed]",
      "text/plain": [
       "<Figure size 1440x1080 with 2 Axes>"
      ]
     },
     "metadata": {
      "needs_background": "light"
     },
     "output_type": "display_data"
    }
   ],
   "source": [
    "plt.figure(figsize=(20,15))\n",
    "sns.heatmap(X_train.corr(), )"
   ]
  },
  {
   "cell_type": "code",
   "execution_count": 87,
   "id": "04544aa0",
   "metadata": {},
   "outputs": [],
   "source": [
    "from sklearn.preprocessing import StandardScaler\n",
    "scaler = StandardScaler()\n",
    "X_train=pd.DataFrame(scaler.fit_transform(X_train))"
   ]
  },
  {
   "cell_type": "code",
   "execution_count": 88,
   "id": "76f114e9",
   "metadata": {},
   "outputs": [],
   "source": [
    "X_test=pd.DataFrame(scaler.transform(X_test))"
   ]
  },
  {
   "cell_type": "code",
   "execution_count": 89,
   "id": "0274c576",
   "metadata": {},
   "outputs": [
    {
     "data": {
      "text/html": [
       "<div>\n",
       "<style scoped>\n",
       "    .dataframe tbody tr th:only-of-type {\n",
       "        vertical-align: middle;\n",
       "    }\n",
       "\n",
       "    .dataframe tbody tr th {\n",
       "        vertical-align: top;\n",
       "    }\n",
       "\n",
       "    .dataframe thead th {\n",
       "        text-align: right;\n",
       "    }\n",
       "</style>\n",
       "<table border=\"1\" class=\"dataframe\">\n",
       "  <thead>\n",
       "    <tr style=\"text-align: right;\">\n",
       "      <th></th>\n",
       "      <th>0</th>\n",
       "      <th>1</th>\n",
       "      <th>2</th>\n",
       "      <th>3</th>\n",
       "      <th>4</th>\n",
       "      <th>5</th>\n",
       "      <th>6</th>\n",
       "      <th>7</th>\n",
       "      <th>8</th>\n",
       "      <th>9</th>\n",
       "      <th>...</th>\n",
       "      <th>16</th>\n",
       "      <th>17</th>\n",
       "      <th>18</th>\n",
       "      <th>19</th>\n",
       "      <th>20</th>\n",
       "      <th>21</th>\n",
       "      <th>22</th>\n",
       "      <th>23</th>\n",
       "      <th>24</th>\n",
       "      <th>25</th>\n",
       "    </tr>\n",
       "  </thead>\n",
       "  <tbody>\n",
       "    <tr>\n",
       "      <th>0</th>\n",
       "      <td>-0.187358</td>\n",
       "      <td>-0.558389</td>\n",
       "      <td>1.028470</td>\n",
       "      <td>0.093494</td>\n",
       "      <td>0.883964</td>\n",
       "      <td>1.199735</td>\n",
       "      <td>1.139468</td>\n",
       "      <td>0.572169</td>\n",
       "      <td>-0.613904</td>\n",
       "      <td>-0.045591</td>\n",
       "      <td>...</td>\n",
       "      <td>-0.229936</td>\n",
       "      <td>1.434431</td>\n",
       "      <td>-0.539628</td>\n",
       "      <td>1.228513</td>\n",
       "      <td>-0.009438</td>\n",
       "      <td>-0.844320</td>\n",
       "      <td>2.463130</td>\n",
       "      <td>-1.639149</td>\n",
       "      <td>1.006829</td>\n",
       "      <td>0.251243</td>\n",
       "    </tr>\n",
       "    <tr>\n",
       "      <th>1</th>\n",
       "      <td>-0.441762</td>\n",
       "      <td>-0.558389</td>\n",
       "      <td>1.970138</td>\n",
       "      <td>-0.124652</td>\n",
       "      <td>1.634205</td>\n",
       "      <td>1.957605</td>\n",
       "      <td>0.016440</td>\n",
       "      <td>1.091869</td>\n",
       "      <td>-0.347718</td>\n",
       "      <td>-0.045591</td>\n",
       "      <td>...</td>\n",
       "      <td>-0.542957</td>\n",
       "      <td>-0.047964</td>\n",
       "      <td>-1.633005</td>\n",
       "      <td>1.228513</td>\n",
       "      <td>-0.009438</td>\n",
       "      <td>-0.844320</td>\n",
       "      <td>-0.340651</td>\n",
       "      <td>0.359551</td>\n",
       "      <td>-0.452144</td>\n",
       "      <td>0.251243</td>\n",
       "    </tr>\n",
       "    <tr>\n",
       "      <th>2</th>\n",
       "      <td>1.662308</td>\n",
       "      <td>-0.558389</td>\n",
       "      <td>-0.288971</td>\n",
       "      <td>2.007002</td>\n",
       "      <td>-0.616519</td>\n",
       "      <td>-0.467580</td>\n",
       "      <td>0.577954</td>\n",
       "      <td>1.091869</td>\n",
       "      <td>0.717028</td>\n",
       "      <td>1.179686</td>\n",
       "      <td>...</td>\n",
       "      <td>0.026530</td>\n",
       "      <td>0.042126</td>\n",
       "      <td>-0.371416</td>\n",
       "      <td>-0.813992</td>\n",
       "      <td>-0.009438</td>\n",
       "      <td>-0.844320</td>\n",
       "      <td>-0.340651</td>\n",
       "      <td>1.159031</td>\n",
       "      <td>0.423240</td>\n",
       "      <td>-0.422977</td>\n",
       "    </tr>\n",
       "    <tr>\n",
       "      <th>3</th>\n",
       "      <td>-0.492642</td>\n",
       "      <td>-0.558389</td>\n",
       "      <td>-0.731846</td>\n",
       "      <td>-0.428564</td>\n",
       "      <td>-0.616519</td>\n",
       "      <td>-0.619155</td>\n",
       "      <td>-1.668103</td>\n",
       "      <td>-0.986930</td>\n",
       "      <td>0.012417</td>\n",
       "      <td>-0.045591</td>\n",
       "      <td>...</td>\n",
       "      <td>0.537686</td>\n",
       "      <td>1.389386</td>\n",
       "      <td>0.721961</td>\n",
       "      <td>-0.813992</td>\n",
       "      <td>-0.009438</td>\n",
       "      <td>-0.357953</td>\n",
       "      <td>-0.340651</td>\n",
       "      <td>-0.839669</td>\n",
       "      <td>-1.035733</td>\n",
       "      <td>-1.771417</td>\n",
       "    </tr>\n",
       "    <tr>\n",
       "      <th>4</th>\n",
       "      <td>0.704552</td>\n",
       "      <td>1.790867</td>\n",
       "      <td>0.149430</td>\n",
       "      <td>0.146814</td>\n",
       "      <td>0.133722</td>\n",
       "      <td>0.290290</td>\n",
       "      <td>1.139468</td>\n",
       "      <td>-0.986930</td>\n",
       "      <td>0.771831</td>\n",
       "      <td>-0.045591</td>\n",
       "      <td>...</td>\n",
       "      <td>-0.046753</td>\n",
       "      <td>-0.187195</td>\n",
       "      <td>1.647126</td>\n",
       "      <td>-0.813992</td>\n",
       "      <td>-0.009438</td>\n",
       "      <td>3.046617</td>\n",
       "      <td>-0.340651</td>\n",
       "      <td>-0.040189</td>\n",
       "      <td>1.590418</td>\n",
       "      <td>0.251243</td>\n",
       "    </tr>\n",
       "  </tbody>\n",
       "</table>\n",
       "<p>5 rows × 26 columns</p>\n",
       "</div>"
      ],
      "text/plain": [
       "         0         1         2         3         4         5         6   \\\n",
       "0 -0.187358 -0.558389  1.028470  0.093494  0.883964  1.199735  1.139468   \n",
       "1 -0.441762 -0.558389  1.970138 -0.124652  1.634205  1.957605  0.016440   \n",
       "2  1.662308 -0.558389 -0.288971  2.007002 -0.616519 -0.467580  0.577954   \n",
       "3 -0.492642 -0.558389 -0.731846 -0.428564 -0.616519 -0.619155 -1.668103   \n",
       "4  0.704552  1.790867  0.149430  0.146814  0.133722  0.290290  1.139468   \n",
       "\n",
       "         7         8         9   ...        16        17        18        19  \\\n",
       "0  0.572169 -0.613904 -0.045591  ... -0.229936  1.434431 -0.539628  1.228513   \n",
       "1  1.091869 -0.347718 -0.045591  ... -0.542957 -0.047964 -1.633005  1.228513   \n",
       "2  1.091869  0.717028  1.179686  ...  0.026530  0.042126 -0.371416 -0.813992   \n",
       "3 -0.986930  0.012417 -0.045591  ...  0.537686  1.389386  0.721961 -0.813992   \n",
       "4 -0.986930  0.771831 -0.045591  ... -0.046753 -0.187195  1.647126 -0.813992   \n",
       "\n",
       "         20        21        22        23        24        25  \n",
       "0 -0.009438 -0.844320  2.463130 -1.639149  1.006829  0.251243  \n",
       "1 -0.009438 -0.844320 -0.340651  0.359551 -0.452144  0.251243  \n",
       "2 -0.009438 -0.844320 -0.340651  1.159031  0.423240 -0.422977  \n",
       "3 -0.009438 -0.357953 -0.340651 -0.839669 -1.035733 -1.771417  \n",
       "4 -0.009438  3.046617 -0.340651 -0.040189  1.590418  0.251243  \n",
       "\n",
       "[5 rows x 26 columns]"
      ]
     },
     "execution_count": 89,
     "metadata": {},
     "output_type": "execute_result"
    }
   ],
   "source": [
    "X_train.head()"
   ]
  },
  {
   "cell_type": "code",
   "execution_count": 90,
   "id": "fa01f7ae",
   "metadata": {},
   "outputs": [],
   "source": [
    "#pip install tensorflow"
   ]
  },
  {
   "cell_type": "code",
   "execution_count": 91,
   "id": "ce849c77",
   "metadata": {},
   "outputs": [
    {
     "data": {
      "text/plain": [
       "(265340, 26)"
      ]
     },
     "execution_count": 91,
     "metadata": {},
     "output_type": "execute_result"
    }
   ],
   "source": [
    "X_train.shape"
   ]
  },
  {
   "cell_type": "code",
   "execution_count": 92,
   "id": "9f7eb73b",
   "metadata": {},
   "outputs": [],
   "source": [
    "#scaling done, now model training\n",
    "from tensorflow.keras.models import Sequential\n",
    "from tensorflow.keras.layers import Dense\n",
    "import tensorflow.keras.activations as activation\n",
    "import tensorflow.keras as k"
   ]
  },
  {
   "cell_type": "code",
   "execution_count": 93,
   "id": "451f0553",
   "metadata": {},
   "outputs": [],
   "source": [
    "def unit_step_function(i):\n",
    "    return k.backend.switch(i>=0.5,lambda x:1,lambda x:0)"
   ]
  },
  {
   "cell_type": "code",
   "execution_count": 94,
   "id": "bab17a56",
   "metadata": {},
   "outputs": [],
   "source": [
    "model=Sequential()\n",
    "model.add(Dense(26,activation='relu'))\n",
    "model.add(Dense(13,activation='relu'))\n",
    "model.add(Dense(10,activation='relu'))\n",
    "model.add(Dense(26,activation='relu'))\n",
    "model.add(Dense(13,activation='relu'))\n",
    "\n",
    "model.add(Dense(1,activation='sigmoid'))\n",
    "#model.add(Dense(1,activation=unit_step_function))\n",
    "\n",
    "model.compile(optimizer='adam',loss='mse')"
   ]
  },
  {
   "cell_type": "code",
   "execution_count": 95,
   "id": "5715a28c",
   "metadata": {},
   "outputs": [
    {
     "name": "stdout",
     "output_type": "stream",
     "text": [
      "Epoch 1/400\n",
      "1037/1037 [==============================] - 6s 5ms/step - loss: 0.1296 - val_loss: 0.1117\n",
      "Epoch 2/400\n",
      "1037/1037 [==============================] - 5s 4ms/step - loss: 0.1094 - val_loss: 0.1081\n",
      "Epoch 3/400\n",
      "1037/1037 [==============================] - 4s 4ms/step - loss: 0.1074 - val_loss: 0.1063\n",
      "Epoch 4/400\n",
      "1037/1037 [==============================] - 4s 4ms/step - loss: 0.0999 - val_loss: 0.0855\n",
      "Epoch 5/400\n",
      "1037/1037 [==============================] - 4s 4ms/step - loss: 0.0839 - val_loss: 0.0826\n",
      "Epoch 6/400\n",
      "1037/1037 [==============================] - 4s 4ms/step - loss: 0.0823 - val_loss: 0.0819\n",
      "Epoch 7/400\n",
      "1037/1037 [==============================] - 4s 4ms/step - loss: 0.0818 - val_loss: 0.0814\n",
      "Epoch 8/400\n",
      "1037/1037 [==============================] - 4s 4ms/step - loss: 0.0816 - val_loss: 0.0813\n",
      "Epoch 9/400\n",
      "1037/1037 [==============================] - 4s 4ms/step - loss: 0.0813 - val_loss: 0.0808\n",
      "Epoch 10/400\n",
      "1037/1037 [==============================] - 4s 4ms/step - loss: 0.0812 - val_loss: 0.0822\n",
      "Epoch 11/400\n",
      "1037/1037 [==============================] - 4s 4ms/step - loss: 0.0811 - val_loss: 0.0808\n",
      "Epoch 12/400\n",
      "1037/1037 [==============================] - 4s 4ms/step - loss: 0.0811 - val_loss: 0.0808\n",
      "Epoch 13/400\n",
      "1037/1037 [==============================] - 4s 4ms/step - loss: 0.0810 - val_loss: 0.0809\n",
      "Epoch 14/400\n",
      "1037/1037 [==============================] - 4s 4ms/step - loss: 0.0809 - val_loss: 0.0808\n",
      "Epoch 15/400\n",
      "1037/1037 [==============================] - 5s 4ms/step - loss: 0.0808 - val_loss: 0.0817\n",
      "Epoch 16/400\n",
      "1037/1037 [==============================] - 4s 4ms/step - loss: 0.0808 - val_loss: 0.0804\n",
      "Epoch 17/400\n",
      "1037/1037 [==============================] - 4s 4ms/step - loss: 0.0807 - val_loss: 0.0808\n",
      "Epoch 18/400\n",
      "1037/1037 [==============================] - 4s 4ms/step - loss: 0.0807 - val_loss: 0.0807\n",
      "Epoch 19/400\n",
      "1037/1037 [==============================] - 4s 4ms/step - loss: 0.0806 - val_loss: 0.0804\n",
      "Epoch 20/400\n",
      "1037/1037 [==============================] - 4s 4ms/step - loss: 0.0806 - val_loss: 0.0808\n",
      "Epoch 21/400\n",
      "1037/1037 [==============================] - 4s 4ms/step - loss: 0.0806 - val_loss: 0.0805\n",
      "Epoch 22/400\n",
      "1037/1037 [==============================] - 4s 4ms/step - loss: 0.0804 - val_loss: 0.0803\n",
      "Epoch 23/400\n",
      "1037/1037 [==============================] - 4s 4ms/step - loss: 0.0804 - val_loss: 0.0805\n",
      "Epoch 24/400\n",
      "1037/1037 [==============================] - 4s 4ms/step - loss: 0.0804 - val_loss: 0.0802\n",
      "Epoch 25/400\n",
      "1037/1037 [==============================] - 5s 5ms/step - loss: 0.0802 - val_loss: 0.0803\n",
      "Epoch 26/400\n",
      "1037/1037 [==============================] - 4s 4ms/step - loss: 0.0803 - val_loss: 0.0804\n",
      "Epoch 27/400\n",
      "1037/1037 [==============================] - 4s 4ms/step - loss: 0.0802 - val_loss: 0.0805\n",
      "Epoch 28/400\n",
      "1037/1037 [==============================] - 4s 4ms/step - loss: 0.0802 - val_loss: 0.0806\n",
      "Epoch 29/400\n",
      "1037/1037 [==============================] - 4s 4ms/step - loss: 0.0801 - val_loss: 0.0802\n",
      "Epoch 30/400\n",
      "1037/1037 [==============================] - 5s 5ms/step - loss: 0.0801 - val_loss: 0.0804\n",
      "Epoch 31/400\n",
      "1037/1037 [==============================] - 4s 4ms/step - loss: 0.0801 - val_loss: 0.0802\n",
      "Epoch 32/400\n",
      "1037/1037 [==============================] - 5s 4ms/step - loss: 0.0801 - val_loss: 0.0803\n",
      "Epoch 33/400\n",
      "1037/1037 [==============================] - 4s 4ms/step - loss: 0.0801 - val_loss: 0.0802\n",
      "Epoch 34/400\n",
      "1037/1037 [==============================] - 4s 4ms/step - loss: 0.0799 - val_loss: 0.0801\n",
      "Epoch 35/400\n",
      "1037/1037 [==============================] - 4s 4ms/step - loss: 0.0800 - val_loss: 0.0801\n",
      "Epoch 36/400\n",
      "1037/1037 [==============================] - 4s 4ms/step - loss: 0.0800 - val_loss: 0.0802\n",
      "Epoch 37/400\n",
      "1037/1037 [==============================] - 5s 4ms/step - loss: 0.0799 - val_loss: 0.0803\n",
      "Epoch 38/400\n",
      "1037/1037 [==============================] - 4s 4ms/step - loss: 0.0799 - val_loss: 0.0801\n",
      "Epoch 39/400\n",
      "1037/1037 [==============================] - 5s 4ms/step - loss: 0.0799 - val_loss: 0.0802\n",
      "Epoch 40/400\n",
      "1037/1037 [==============================] - 4s 4ms/step - loss: 0.0799 - val_loss: 0.0801\n",
      "Epoch 41/400\n",
      "1037/1037 [==============================] - 4s 4ms/step - loss: 0.0798 - val_loss: 0.0802\n",
      "Epoch 42/400\n",
      "1037/1037 [==============================] - 4s 4ms/step - loss: 0.0798 - val_loss: 0.0806\n",
      "Epoch 43/400\n",
      "1037/1037 [==============================] - 5s 4ms/step - loss: 0.0799 - val_loss: 0.0801\n",
      "Epoch 44/400\n",
      "1037/1037 [==============================] - 4s 4ms/step - loss: 0.0798 - val_loss: 0.0800\n",
      "Epoch 45/400\n",
      "1037/1037 [==============================] - 4s 4ms/step - loss: 0.0798 - val_loss: 0.0800\n",
      "Epoch 46/400\n",
      "1037/1037 [==============================] - 4s 4ms/step - loss: 0.0797 - val_loss: 0.0802\n",
      "Epoch 47/400\n",
      "1037/1037 [==============================] - 4s 4ms/step - loss: 0.0797 - val_loss: 0.0800\n",
      "Epoch 48/400\n",
      "1037/1037 [==============================] - 4s 4ms/step - loss: 0.0797 - val_loss: 0.0800\n",
      "Epoch 49/400\n",
      "1037/1037 [==============================] - 4s 4ms/step - loss: 0.0797 - val_loss: 0.0800\n",
      "Epoch 50/400\n",
      "1037/1037 [==============================] - 4s 4ms/step - loss: 0.0797 - val_loss: 0.0802\n",
      "Epoch 51/400\n",
      "1037/1037 [==============================] - 4s 4ms/step - loss: 0.0796 - val_loss: 0.0800\n",
      "Epoch 52/400\n",
      "1037/1037 [==============================] - 4s 4ms/step - loss: 0.0796 - val_loss: 0.0800\n",
      "Epoch 53/400\n",
      "1037/1037 [==============================] - 4s 4ms/step - loss: 0.0796 - val_loss: 0.0801\n",
      "Epoch 54/400\n",
      "1037/1037 [==============================] - 4s 4ms/step - loss: 0.0796 - val_loss: 0.0800\n",
      "Epoch 55/400\n",
      "1037/1037 [==============================] - 4s 4ms/step - loss: 0.0797 - val_loss: 0.0800\n",
      "Epoch 56/400\n",
      "1037/1037 [==============================] - 4s 4ms/step - loss: 0.0795 - val_loss: 0.0801\n",
      "Epoch 57/400\n",
      "1037/1037 [==============================] - 4s 4ms/step - loss: 0.0795 - val_loss: 0.0802\n",
      "Epoch 58/400\n",
      "1037/1037 [==============================] - 4s 4ms/step - loss: 0.0796 - val_loss: 0.0801\n",
      "Epoch 59/400\n",
      "1037/1037 [==============================] - 5s 4ms/step - loss: 0.0795 - val_loss: 0.0800\n",
      "Epoch 60/400\n",
      "1037/1037 [==============================] - 5s 4ms/step - loss: 0.0795 - val_loss: 0.0803\n",
      "Epoch 61/400\n",
      "1037/1037 [==============================] - 4s 4ms/step - loss: 0.0796 - val_loss: 0.0801\n",
      "Epoch 62/400\n",
      "1037/1037 [==============================] - 4s 4ms/step - loss: 0.0795 - val_loss: 0.0800\n",
      "Epoch 63/400\n",
      "1037/1037 [==============================] - 5s 4ms/step - loss: 0.0795 - val_loss: 0.0800\n",
      "Epoch 64/400\n",
      "1037/1037 [==============================] - 4s 4ms/step - loss: 0.0795 - val_loss: 0.0800\n",
      "Epoch 65/400\n",
      "1037/1037 [==============================] - 4s 4ms/step - loss: 0.0795 - val_loss: 0.0800\n",
      "Epoch 66/400\n",
      "1037/1037 [==============================] - 4s 4ms/step - loss: 0.0795 - val_loss: 0.0805\n",
      "Epoch 67/400\n",
      "1037/1037 [==============================] - 4s 4ms/step - loss: 0.0794 - val_loss: 0.0800\n",
      "Epoch 68/400\n",
      "1037/1037 [==============================] - 4s 4ms/step - loss: 0.0795 - val_loss: 0.0802\n",
      "Epoch 69/400\n",
      "1037/1037 [==============================] - 4s 4ms/step - loss: 0.0794 - val_loss: 0.0800\n",
      "Epoch 70/400\n",
      "1037/1037 [==============================] - 4s 4ms/step - loss: 0.0794 - val_loss: 0.0801\n",
      "Epoch 71/400\n",
      "1037/1037 [==============================] - 4s 4ms/step - loss: 0.0794 - val_loss: 0.0799\n",
      "Epoch 72/400\n",
      "1037/1037 [==============================] - 4s 4ms/step - loss: 0.0794 - val_loss: 0.0800\n",
      "Epoch 73/400\n",
      "1037/1037 [==============================] - 4s 4ms/step - loss: 0.0795 - val_loss: 0.0803\n",
      "Epoch 74/400\n",
      "1037/1037 [==============================] - 5s 4ms/step - loss: 0.0794 - val_loss: 0.0801\n",
      "Epoch 75/400\n",
      "1037/1037 [==============================] - 5s 4ms/step - loss: 0.0793 - val_loss: 0.0800\n",
      "Epoch 76/400\n",
      "1037/1037 [==============================] - 4s 4ms/step - loss: 0.0794 - val_loss: 0.0800\n",
      "Epoch 77/400\n",
      "1037/1037 [==============================] - 4s 4ms/step - loss: 0.0794 - val_loss: 0.0801\n",
      "Epoch 78/400\n",
      "1037/1037 [==============================] - 4s 4ms/step - loss: 0.0793 - val_loss: 0.0803\n",
      "Epoch 79/400\n",
      "1037/1037 [==============================] - 4s 4ms/step - loss: 0.0793 - val_loss: 0.0807\n"
     ]
    },
    {
     "name": "stdout",
     "output_type": "stream",
     "text": [
      "Epoch 80/400\n",
      "1037/1037 [==============================] - 4s 4ms/step - loss: 0.0793 - val_loss: 0.0801\n",
      "Epoch 81/400\n",
      "1037/1037 [==============================] - 4s 4ms/step - loss: 0.0793 - val_loss: 0.0799\n",
      "Epoch 82/400\n",
      "1037/1037 [==============================] - 4s 4ms/step - loss: 0.0793 - val_loss: 0.0801\n",
      "Epoch 83/400\n",
      "1037/1037 [==============================] - 4s 4ms/step - loss: 0.0793 - val_loss: 0.0804\n",
      "Epoch 84/400\n",
      "1037/1037 [==============================] - 4s 4ms/step - loss: 0.0793 - val_loss: 0.0800\n",
      "Epoch 85/400\n",
      "1037/1037 [==============================] - 4s 4ms/step - loss: 0.0792 - val_loss: 0.0802\n",
      "Epoch 86/400\n",
      "1037/1037 [==============================] - 4s 4ms/step - loss: 0.0792 - val_loss: 0.0801\n",
      "Epoch 87/400\n",
      "1037/1037 [==============================] - 4s 4ms/step - loss: 0.0793 - val_loss: 0.0801\n",
      "Epoch 88/400\n",
      "1037/1037 [==============================] - 4s 4ms/step - loss: 0.0792 - val_loss: 0.0801\n",
      "Epoch 89/400\n",
      "1037/1037 [==============================] - 4s 4ms/step - loss: 0.0792 - val_loss: 0.0801\n",
      "Epoch 90/400\n",
      "1037/1037 [==============================] - 4s 4ms/step - loss: 0.0792 - val_loss: 0.0803\n",
      "Epoch 91/400\n",
      "1037/1037 [==============================] - 4s 4ms/step - loss: 0.0792 - val_loss: 0.0803\n",
      "Epoch 92/400\n",
      "1037/1037 [==============================] - 4s 4ms/step - loss: 0.0792 - val_loss: 0.0799\n",
      "Epoch 93/400\n",
      "1037/1037 [==============================] - 5s 4ms/step - loss: 0.0793 - val_loss: 0.0801\n",
      "Epoch 94/400\n",
      "1037/1037 [==============================] - 4s 4ms/step - loss: 0.0793 - val_loss: 0.0804\n",
      "Epoch 95/400\n",
      "1037/1037 [==============================] - 4s 4ms/step - loss: 0.0791 - val_loss: 0.0804\n",
      "Epoch 96/400\n",
      "1037/1037 [==============================] - 4s 4ms/step - loss: 0.0792 - val_loss: 0.0803\n",
      "Epoch 97/400\n",
      "1037/1037 [==============================] - 4s 4ms/step - loss: 0.0791 - val_loss: 0.0802\n",
      "Epoch 98/400\n",
      "1037/1037 [==============================] - 4s 4ms/step - loss: 0.0792 - val_loss: 0.0802\n",
      "Epoch 99/400\n",
      "1037/1037 [==============================] - 4s 4ms/step - loss: 0.0791 - val_loss: 0.0801\n",
      "Epoch 100/400\n",
      "1037/1037 [==============================] - 4s 4ms/step - loss: 0.0792 - val_loss: 0.0802\n",
      "Epoch 101/400\n",
      "1037/1037 [==============================] - 4s 4ms/step - loss: 0.0792 - val_loss: 0.0801\n",
      "Epoch 102/400\n",
      "1037/1037 [==============================] - 4s 4ms/step - loss: 0.0791 - val_loss: 0.0801\n",
      "Epoch 103/400\n",
      "1037/1037 [==============================] - 4s 4ms/step - loss: 0.0791 - val_loss: 0.0801\n",
      "Epoch 104/400\n",
      "1037/1037 [==============================] - 4s 4ms/step - loss: 0.0791 - val_loss: 0.0802\n",
      "Epoch 105/400\n",
      "1037/1037 [==============================] - 4s 4ms/step - loss: 0.0790 - val_loss: 0.0802\n",
      "Epoch 106/400\n",
      "1037/1037 [==============================] - 4s 4ms/step - loss: 0.0791 - val_loss: 0.0801\n",
      "Epoch 107/400\n",
      "1037/1037 [==============================] - 5s 5ms/step - loss: 0.0791 - val_loss: 0.0802\n",
      "Epoch 108/400\n",
      "1037/1037 [==============================] - 5s 4ms/step - loss: 0.0790 - val_loss: 0.0803\n",
      "Epoch 109/400\n",
      "1037/1037 [==============================] - 5s 4ms/step - loss: 0.0791 - val_loss: 0.0803\n",
      "Epoch 110/400\n",
      "1037/1037 [==============================] - 4s 4ms/step - loss: 0.0791 - val_loss: 0.0802\n",
      "Epoch 111/400\n",
      "1037/1037 [==============================] - 4s 4ms/step - loss: 0.0791 - val_loss: 0.0801\n",
      "Epoch 112/400\n",
      "1037/1037 [==============================] - 4s 4ms/step - loss: 0.0790 - val_loss: 0.0802\n",
      "Epoch 113/400\n",
      "1037/1037 [==============================] - 4s 4ms/step - loss: 0.0790 - val_loss: 0.0802\n",
      "Epoch 114/400\n",
      "1037/1037 [==============================] - 4s 4ms/step - loss: 0.0790 - val_loss: 0.0805\n",
      "Epoch 115/400\n",
      "1037/1037 [==============================] - 5s 4ms/step - loss: 0.0790 - val_loss: 0.0802\n",
      "Epoch 116/400\n",
      "1037/1037 [==============================] - 5s 5ms/step - loss: 0.0790 - val_loss: 0.0802\n",
      "Epoch 117/400\n",
      "1037/1037 [==============================] - 5s 5ms/step - loss: 0.0790 - val_loss: 0.0802\n",
      "Epoch 118/400\n",
      "1037/1037 [==============================] - 5s 4ms/step - loss: 0.0790 - val_loss: 0.0802\n",
      "Epoch 119/400\n",
      "1037/1037 [==============================] - 5s 5ms/step - loss: 0.0790 - val_loss: 0.0804\n",
      "Epoch 120/400\n",
      "1037/1037 [==============================] - 4s 4ms/step - loss: 0.0790 - val_loss: 0.0802\n",
      "Epoch 121/400\n",
      "1037/1037 [==============================] - 4s 4ms/step - loss: 0.0790 - val_loss: 0.0805\n",
      "Epoch 122/400\n",
      "1037/1037 [==============================] - 5s 5ms/step - loss: 0.0790 - val_loss: 0.0802\n",
      "Epoch 123/400\n",
      "1037/1037 [==============================] - 5s 4ms/step - loss: 0.0790 - val_loss: 0.0802\n",
      "Epoch 124/400\n",
      "1037/1037 [==============================] - 5s 4ms/step - loss: 0.0789 - val_loss: 0.0800\n",
      "Epoch 125/400\n",
      "1037/1037 [==============================] - 5s 4ms/step - loss: 0.0789 - val_loss: 0.0802\n",
      "Epoch 126/400\n",
      "1037/1037 [==============================] - 5s 5ms/step - loss: 0.0789 - val_loss: 0.0802\n",
      "Epoch 127/400\n",
      "1037/1037 [==============================] - 4s 4ms/step - loss: 0.0789 - val_loss: 0.0804\n",
      "Epoch 128/400\n",
      "1037/1037 [==============================] - 5s 4ms/step - loss: 0.0789 - val_loss: 0.0804\n",
      "Epoch 129/400\n",
      "1037/1037 [==============================] - 5s 5ms/step - loss: 0.0790 - val_loss: 0.0801\n",
      "Epoch 130/400\n",
      "1037/1037 [==============================] - 5s 4ms/step - loss: 0.0789 - val_loss: 0.0805\n",
      "Epoch 131/400\n",
      "1037/1037 [==============================] - 5s 4ms/step - loss: 0.0789 - val_loss: 0.0802\n",
      "Epoch 132/400\n",
      "1037/1037 [==============================] - 5s 5ms/step - loss: 0.0789 - val_loss: 0.0801\n",
      "Epoch 133/400\n",
      "1037/1037 [==============================] - 4s 4ms/step - loss: 0.0789 - val_loss: 0.0801\n",
      "Epoch 134/400\n",
      "1037/1037 [==============================] - 4s 4ms/step - loss: 0.0789 - val_loss: 0.0803\n",
      "Epoch 135/400\n",
      "1037/1037 [==============================] - 4s 4ms/step - loss: 0.0789 - val_loss: 0.0802\n",
      "Epoch 136/400\n",
      "1037/1037 [==============================] - 5s 4ms/step - loss: 0.0788 - val_loss: 0.0803\n",
      "Epoch 137/400\n",
      "1037/1037 [==============================] - 5s 5ms/step - loss: 0.0789 - val_loss: 0.0804\n",
      "Epoch 138/400\n",
      "1037/1037 [==============================] - 5s 5ms/step - loss: 0.0789 - val_loss: 0.0804\n",
      "Epoch 139/400\n",
      "1037/1037 [==============================] - 5s 5ms/step - loss: 0.0789 - val_loss: 0.0806\n",
      "Epoch 140/400\n",
      "1037/1037 [==============================] - 4s 4ms/step - loss: 0.0788 - val_loss: 0.0804\n",
      "Epoch 141/400\n",
      "1037/1037 [==============================] - 4s 4ms/step - loss: 0.0788 - val_loss: 0.0803\n",
      "Epoch 142/400\n",
      "1037/1037 [==============================] - 4s 4ms/step - loss: 0.0789 - val_loss: 0.0803\n",
      "Epoch 143/400\n",
      "1037/1037 [==============================] - 5s 4ms/step - loss: 0.0788 - val_loss: 0.0803\n",
      "Epoch 144/400\n",
      "1037/1037 [==============================] - 5s 4ms/step - loss: 0.0788 - val_loss: 0.0803\n",
      "Epoch 145/400\n",
      "1037/1037 [==============================] - 4s 4ms/step - loss: 0.0787 - val_loss: 0.0803\n",
      "Epoch 146/400\n",
      "1037/1037 [==============================] - 4s 4ms/step - loss: 0.0789 - val_loss: 0.0802\n",
      "Epoch 147/400\n",
      "1037/1037 [==============================] - 4s 4ms/step - loss: 0.0788 - val_loss: 0.0803\n",
      "Epoch 148/400\n",
      "1037/1037 [==============================] - 4s 4ms/step - loss: 0.0788 - val_loss: 0.0804\n",
      "Epoch 149/400\n",
      "1037/1037 [==============================] - 4s 4ms/step - loss: 0.0788 - val_loss: 0.0805\n",
      "Epoch 150/400\n",
      "1037/1037 [==============================] - 4s 4ms/step - loss: 0.0788 - val_loss: 0.0802\n",
      "Epoch 151/400\n",
      "1037/1037 [==============================] - 4s 4ms/step - loss: 0.0788 - val_loss: 0.0807\n",
      "Epoch 152/400\n",
      "1037/1037 [==============================] - 4s 4ms/step - loss: 0.0788 - val_loss: 0.0802\n",
      "Epoch 153/400\n",
      "1037/1037 [==============================] - 4s 4ms/step - loss: 0.0788 - val_loss: 0.0805\n",
      "Epoch 154/400\n",
      "1037/1037 [==============================] - 4s 4ms/step - loss: 0.0788 - val_loss: 0.0805\n",
      "Epoch 155/400\n",
      "1037/1037 [==============================] - 4s 4ms/step - loss: 0.0788 - val_loss: 0.0804\n",
      "Epoch 156/400\n",
      "1037/1037 [==============================] - 4s 4ms/step - loss: 0.0787 - val_loss: 0.0803\n",
      "Epoch 157/400\n",
      "1037/1037 [==============================] - 4s 4ms/step - loss: 0.0788 - val_loss: 0.0803\n",
      "Epoch 158/400\n"
     ]
    },
    {
     "name": "stdout",
     "output_type": "stream",
     "text": [
      "1037/1037 [==============================] - 4s 4ms/step - loss: 0.0787 - val_loss: 0.0804\n",
      "Epoch 159/400\n",
      "1037/1037 [==============================] - 4s 4ms/step - loss: 0.0788 - val_loss: 0.0803\n",
      "Epoch 160/400\n",
      "1037/1037 [==============================] - 4s 4ms/step - loss: 0.0788 - val_loss: 0.0804\n",
      "Epoch 161/400\n",
      "1037/1037 [==============================] - 4s 4ms/step - loss: 0.0788 - val_loss: 0.0806\n",
      "Epoch 162/400\n",
      "1037/1037 [==============================] - 4s 4ms/step - loss: 0.0788 - val_loss: 0.0802\n",
      "Epoch 163/400\n",
      "1037/1037 [==============================] - 4s 3ms/step - loss: 0.0788 - val_loss: 0.0805\n",
      "Epoch 164/400\n",
      "1037/1037 [==============================] - 4s 3ms/step - loss: 0.0788 - val_loss: 0.0802\n",
      "Epoch 165/400\n",
      "1037/1037 [==============================] - 4s 3ms/step - loss: 0.0788 - val_loss: 0.0804\n",
      "Epoch 166/400\n",
      "1037/1037 [==============================] - 4s 4ms/step - loss: 0.0787 - val_loss: 0.0805\n",
      "Epoch 167/400\n",
      "1037/1037 [==============================] - 4s 3ms/step - loss: 0.0788 - val_loss: 0.0804\n",
      "Epoch 168/400\n",
      "1037/1037 [==============================] - 4s 3ms/step - loss: 0.0787 - val_loss: 0.0805\n",
      "Epoch 169/400\n",
      "1037/1037 [==============================] - 4s 3ms/step - loss: 0.0787 - val_loss: 0.0803\n",
      "Epoch 170/400\n",
      "1037/1037 [==============================] - 4s 3ms/step - loss: 0.0787 - val_loss: 0.0806\n",
      "Epoch 171/400\n",
      "1037/1037 [==============================] - 3s 3ms/step - loss: 0.0787 - val_loss: 0.0807\n",
      "Epoch 172/400\n",
      "1037/1037 [==============================] - 3s 3ms/step - loss: 0.0787 - val_loss: 0.0807\n",
      "Epoch 173/400\n",
      "1037/1037 [==============================] - 4s 3ms/step - loss: 0.0787 - val_loss: 0.0805\n",
      "Epoch 174/400\n",
      "1037/1037 [==============================] - 4s 3ms/step - loss: 0.0787 - val_loss: 0.0804\n",
      "Epoch 175/400\n",
      "1037/1037 [==============================] - 4s 3ms/step - loss: 0.0787 - val_loss: 0.0805\n",
      "Epoch 176/400\n",
      "1037/1037 [==============================] - 4s 3ms/step - loss: 0.0787 - val_loss: 0.0802\n",
      "Epoch 177/400\n",
      "1037/1037 [==============================] - 3s 3ms/step - loss: 0.0786 - val_loss: 0.0809\n",
      "Epoch 178/400\n",
      "1037/1037 [==============================] - 4s 3ms/step - loss: 0.0787 - val_loss: 0.0805\n",
      "Epoch 179/400\n",
      "1037/1037 [==============================] - 3s 3ms/step - loss: 0.0786 - val_loss: 0.0804\n",
      "Epoch 180/400\n",
      "1037/1037 [==============================] - 4s 3ms/step - loss: 0.0787 - val_loss: 0.0804\n",
      "Epoch 181/400\n",
      "1037/1037 [==============================] - 4s 3ms/step - loss: 0.0787 - val_loss: 0.0804\n",
      "Epoch 182/400\n",
      "1037/1037 [==============================] - 4s 3ms/step - loss: 0.0787 - val_loss: 0.0803\n",
      "Epoch 183/400\n",
      "1037/1037 [==============================] - 4s 3ms/step - loss: 0.0786 - val_loss: 0.0805\n",
      "Epoch 184/400\n",
      "1037/1037 [==============================] - 4s 3ms/step - loss: 0.0786 - val_loss: 0.0804\n",
      "Epoch 185/400\n",
      "1037/1037 [==============================] - 4s 3ms/step - loss: 0.0787 - val_loss: 0.0806\n",
      "Epoch 186/400\n",
      "1037/1037 [==============================] - 4s 3ms/step - loss: 0.0787 - val_loss: 0.0807\n",
      "Epoch 187/400\n",
      "1037/1037 [==============================] - 4s 3ms/step - loss: 0.0787 - val_loss: 0.0803\n",
      "Epoch 188/400\n",
      "1037/1037 [==============================] - 3s 3ms/step - loss: 0.0786 - val_loss: 0.0806\n",
      "Epoch 189/400\n",
      "1037/1037 [==============================] - 4s 3ms/step - loss: 0.0786 - val_loss: 0.0803\n",
      "Epoch 190/400\n",
      "1037/1037 [==============================] - 4s 3ms/step - loss: 0.0787 - val_loss: 0.0806\n",
      "Epoch 191/400\n",
      "1037/1037 [==============================] - 4s 3ms/step - loss: 0.0787 - val_loss: 0.0805\n",
      "Epoch 192/400\n",
      "1037/1037 [==============================] - 4s 3ms/step - loss: 0.0786 - val_loss: 0.0804\n",
      "Epoch 193/400\n",
      "1037/1037 [==============================] - 4s 3ms/step - loss: 0.0786 - val_loss: 0.0806\n",
      "Epoch 194/400\n",
      "1037/1037 [==============================] - 4s 3ms/step - loss: 0.0786 - val_loss: 0.0803\n",
      "Epoch 195/400\n",
      "1037/1037 [==============================] - 3s 3ms/step - loss: 0.0786 - val_loss: 0.0804\n",
      "Epoch 196/400\n",
      "1037/1037 [==============================] - 3s 3ms/step - loss: 0.0786 - val_loss: 0.0805\n",
      "Epoch 197/400\n",
      "1037/1037 [==============================] - 3s 3ms/step - loss: 0.0785 - val_loss: 0.0804\n",
      "Epoch 198/400\n",
      "1037/1037 [==============================] - 3s 3ms/step - loss: 0.0786 - val_loss: 0.0805\n",
      "Epoch 199/400\n",
      "1037/1037 [==============================] - 3s 3ms/step - loss: 0.0785 - val_loss: 0.0804\n",
      "Epoch 200/400\n",
      "1037/1037 [==============================] - 4s 3ms/step - loss: 0.0786 - val_loss: 0.0807\n",
      "Epoch 201/400\n",
      "1037/1037 [==============================] - 5s 4ms/step - loss: 0.0785 - val_loss: 0.0802\n",
      "Epoch 202/400\n",
      "1037/1037 [==============================] - 5s 5ms/step - loss: 0.0786 - val_loss: 0.0807\n",
      "Epoch 203/400\n",
      "1037/1037 [==============================] - 5s 5ms/step - loss: 0.0786 - val_loss: 0.0805\n",
      "Epoch 204/400\n",
      "1037/1037 [==============================] - 5s 5ms/step - loss: 0.0786 - val_loss: 0.0804\n",
      "Epoch 205/400\n",
      "1037/1037 [==============================] - 5s 5ms/step - loss: 0.0785 - val_loss: 0.0806\n",
      "Epoch 206/400\n",
      "1037/1037 [==============================] - 4s 4ms/step - loss: 0.0785 - val_loss: 0.0804\n",
      "Epoch 207/400\n",
      "1037/1037 [==============================] - 4s 4ms/step - loss: 0.0785 - val_loss: 0.0806\n",
      "Epoch 208/400\n",
      "1037/1037 [==============================] - 4s 4ms/step - loss: 0.0786 - val_loss: 0.0804\n",
      "Epoch 209/400\n",
      "1037/1037 [==============================] - 4s 4ms/step - loss: 0.0785 - val_loss: 0.0806\n",
      "Epoch 210/400\n",
      "1037/1037 [==============================] - 4s 4ms/step - loss: 0.0785 - val_loss: 0.0804\n",
      "Epoch 211/400\n",
      "1037/1037 [==============================] - 4s 4ms/step - loss: 0.0786 - val_loss: 0.0803\n",
      "Epoch 212/400\n",
      "1037/1037 [==============================] - 4s 4ms/step - loss: 0.0785 - val_loss: 0.0806\n",
      "Epoch 213/400\n",
      "1037/1037 [==============================] - 4s 4ms/step - loss: 0.0785 - val_loss: 0.0806\n",
      "Epoch 214/400\n",
      "1037/1037 [==============================] - 5s 4ms/step - loss: 0.0785 - val_loss: 0.0808\n",
      "Epoch 215/400\n",
      "1037/1037 [==============================] - 4s 4ms/step - loss: 0.0785 - val_loss: 0.0806\n",
      "Epoch 216/400\n",
      "1037/1037 [==============================] - 4s 4ms/step - loss: 0.0785 - val_loss: 0.0806\n",
      "Epoch 217/400\n",
      "1037/1037 [==============================] - 4s 4ms/step - loss: 0.0785 - val_loss: 0.0806\n",
      "Epoch 218/400\n",
      "1037/1037 [==============================] - 4s 4ms/step - loss: 0.0785 - val_loss: 0.0805\n",
      "Epoch 219/400\n",
      "1037/1037 [==============================] - 4s 4ms/step - loss: 0.0785 - val_loss: 0.0806\n",
      "Epoch 220/400\n",
      "1037/1037 [==============================] - 4s 4ms/step - loss: 0.0784 - val_loss: 0.0806\n",
      "Epoch 221/400\n",
      "1037/1037 [==============================] - 4s 4ms/step - loss: 0.0785 - val_loss: 0.0806\n",
      "Epoch 222/400\n",
      "1037/1037 [==============================] - 4s 4ms/step - loss: 0.0785 - val_loss: 0.0806\n",
      "Epoch 223/400\n",
      "1037/1037 [==============================] - 4s 4ms/step - loss: 0.0785 - val_loss: 0.0806\n",
      "Epoch 224/400\n",
      "1037/1037 [==============================] - 4s 4ms/step - loss: 0.0785 - val_loss: 0.0810\n",
      "Epoch 225/400\n",
      "1037/1037 [==============================] - 4s 4ms/step - loss: 0.0785 - val_loss: 0.0807\n",
      "Epoch 226/400\n",
      "1037/1037 [==============================] - 4s 4ms/step - loss: 0.0785 - val_loss: 0.0809\n",
      "Epoch 227/400\n",
      "1037/1037 [==============================] - 4s 4ms/step - loss: 0.0785 - val_loss: 0.0804\n",
      "Epoch 228/400\n",
      "1037/1037 [==============================] - 4s 4ms/step - loss: 0.0785 - val_loss: 0.0806\n",
      "Epoch 229/400\n",
      "1037/1037 [==============================] - 4s 4ms/step - loss: 0.0784 - val_loss: 0.0808\n",
      "Epoch 230/400\n",
      "1037/1037 [==============================] - 4s 4ms/step - loss: 0.0784 - val_loss: 0.0807\n",
      "Epoch 231/400\n",
      "1037/1037 [==============================] - 4s 4ms/step - loss: 0.0785 - val_loss: 0.0808\n",
      "Epoch 232/400\n",
      "1037/1037 [==============================] - 4s 4ms/step - loss: 0.0784 - val_loss: 0.0808\n",
      "Epoch 233/400\n",
      "1037/1037 [==============================] - 4s 4ms/step - loss: 0.0784 - val_loss: 0.0806\n",
      "Epoch 234/400\n",
      "1037/1037 [==============================] - 4s 4ms/step - loss: 0.0784 - val_loss: 0.0814\n",
      "Epoch 235/400\n",
      "1037/1037 [==============================] - 4s 4ms/step - loss: 0.0784 - val_loss: 0.0806\n",
      "Epoch 236/400\n"
     ]
    },
    {
     "name": "stdout",
     "output_type": "stream",
     "text": [
      "1037/1037 [==============================] - 4s 4ms/step - loss: 0.0784 - val_loss: 0.0804\n",
      "Epoch 237/400\n",
      "1037/1037 [==============================] - 4s 4ms/step - loss: 0.0785 - val_loss: 0.0812\n",
      "Epoch 238/400\n",
      "1037/1037 [==============================] - 4s 4ms/step - loss: 0.0784 - val_loss: 0.0806\n",
      "Epoch 239/400\n",
      "1037/1037 [==============================] - 4s 4ms/step - loss: 0.0783 - val_loss: 0.0807\n",
      "Epoch 240/400\n",
      "1037/1037 [==============================] - 4s 4ms/step - loss: 0.0784 - val_loss: 0.0807\n",
      "Epoch 241/400\n",
      "1037/1037 [==============================] - 4s 4ms/step - loss: 0.0784 - val_loss: 0.0807\n",
      "Epoch 242/400\n",
      "1037/1037 [==============================] - 4s 4ms/step - loss: 0.0784 - val_loss: 0.0808\n",
      "Epoch 243/400\n",
      "1037/1037 [==============================] - 4s 4ms/step - loss: 0.0783 - val_loss: 0.0808\n",
      "Epoch 244/400\n",
      "1037/1037 [==============================] - 5s 4ms/step - loss: 0.0784 - val_loss: 0.0807\n",
      "Epoch 245/400\n",
      "1037/1037 [==============================] - 4s 4ms/step - loss: 0.0785 - val_loss: 0.0808\n",
      "Epoch 246/400\n",
      "1037/1037 [==============================] - 5s 4ms/step - loss: 0.0784 - val_loss: 0.0806\n",
      "Epoch 247/400\n",
      "1037/1037 [==============================] - 4s 4ms/step - loss: 0.0784 - val_loss: 0.0806\n",
      "Epoch 248/400\n",
      "1037/1037 [==============================] - 4s 4ms/step - loss: 0.0784 - val_loss: 0.0807\n",
      "Epoch 249/400\n",
      "1037/1037 [==============================] - 4s 4ms/step - loss: 0.0784 - val_loss: 0.0807\n",
      "Epoch 250/400\n",
      "1037/1037 [==============================] - 4s 4ms/step - loss: 0.0783 - val_loss: 0.0808\n",
      "Epoch 251/400\n",
      "1037/1037 [==============================] - 4s 4ms/step - loss: 0.0784 - val_loss: 0.0810\n",
      "Epoch 252/400\n",
      "1037/1037 [==============================] - 4s 4ms/step - loss: 0.0784 - val_loss: 0.0807\n",
      "Epoch 253/400\n",
      "1037/1037 [==============================] - 4s 4ms/step - loss: 0.0783 - val_loss: 0.0812\n",
      "Epoch 254/400\n",
      "1037/1037 [==============================] - 4s 4ms/step - loss: 0.0784 - val_loss: 0.0811\n",
      "Epoch 255/400\n",
      "1037/1037 [==============================] - 4s 4ms/step - loss: 0.0784 - val_loss: 0.0811\n",
      "Epoch 256/400\n",
      "1037/1037 [==============================] - 4s 3ms/step - loss: 0.0783 - val_loss: 0.0807\n",
      "Epoch 257/400\n",
      "1037/1037 [==============================] - 4s 3ms/step - loss: 0.0783 - val_loss: 0.0808\n",
      "Epoch 258/400\n",
      "1037/1037 [==============================] - 4s 3ms/step - loss: 0.0783 - val_loss: 0.0807\n",
      "Epoch 259/400\n",
      "1037/1037 [==============================] - 4s 3ms/step - loss: 0.0783 - val_loss: 0.0809\n",
      "Epoch 260/400\n",
      "1037/1037 [==============================] - 4s 3ms/step - loss: 0.0785 - val_loss: 0.0811\n",
      "Epoch 261/400\n",
      "1037/1037 [==============================] - 4s 3ms/step - loss: 0.0783 - val_loss: 0.0808\n",
      "Epoch 262/400\n",
      "1037/1037 [==============================] - 4s 3ms/step - loss: 0.0783 - val_loss: 0.0809\n",
      "Epoch 263/400\n",
      "1037/1037 [==============================] - 4s 3ms/step - loss: 0.0783 - val_loss: 0.0810\n",
      "Epoch 264/400\n",
      "1037/1037 [==============================] - 3s 3ms/step - loss: 0.0784 - val_loss: 0.0808\n",
      "Epoch 265/400\n",
      "1037/1037 [==============================] - 4s 3ms/step - loss: 0.0783 - val_loss: 0.0807\n",
      "Epoch 266/400\n",
      "1037/1037 [==============================] - 4s 3ms/step - loss: 0.0784 - val_loss: 0.0807\n",
      "Epoch 267/400\n",
      "1037/1037 [==============================] - 4s 3ms/step - loss: 0.0783 - val_loss: 0.0810\n",
      "Epoch 268/400\n",
      "1037/1037 [==============================] - 4s 3ms/step - loss: 0.0784 - val_loss: 0.0808\n",
      "Epoch 269/400\n",
      "1037/1037 [==============================] - 4s 3ms/step - loss: 0.0783 - val_loss: 0.0809\n",
      "Epoch 270/400\n",
      "1037/1037 [==============================] - 4s 3ms/step - loss: 0.0783 - val_loss: 0.0808\n",
      "Epoch 271/400\n",
      "1037/1037 [==============================] - 4s 3ms/step - loss: 0.0783 - val_loss: 0.0810\n",
      "Epoch 272/400\n",
      "1037/1037 [==============================] - 4s 3ms/step - loss: 0.0783 - val_loss: 0.0808\n",
      "Epoch 273/400\n",
      "1037/1037 [==============================] - 4s 3ms/step - loss: 0.0783 - val_loss: 0.0807\n",
      "Epoch 274/400\n",
      "1037/1037 [==============================] - 3s 3ms/step - loss: 0.0783 - val_loss: 0.0807\n",
      "Epoch 275/400\n",
      "1037/1037 [==============================] - 4s 3ms/step - loss: 0.0785 - val_loss: 0.0815\n",
      "Epoch 276/400\n",
      "1037/1037 [==============================] - 4s 3ms/step - loss: 0.0784 - val_loss: 0.0810\n",
      "Epoch 277/400\n",
      "1037/1037 [==============================] - 4s 3ms/step - loss: 0.0783 - val_loss: 0.0809\n",
      "Epoch 278/400\n",
      "1037/1037 [==============================] - 3s 3ms/step - loss: 0.0783 - val_loss: 0.0807\n",
      "Epoch 279/400\n",
      "1037/1037 [==============================] - 4s 3ms/step - loss: 0.0783 - val_loss: 0.0808\n",
      "Epoch 280/400\n",
      "1037/1037 [==============================] - 4s 3ms/step - loss: 0.0783 - val_loss: 0.0807\n",
      "Epoch 281/400\n",
      "1037/1037 [==============================] - 4s 3ms/step - loss: 0.0783 - val_loss: 0.0808\n",
      "Epoch 282/400\n",
      "1037/1037 [==============================] - 4s 3ms/step - loss: 0.0783 - val_loss: 0.0809\n",
      "Epoch 283/400\n",
      "1037/1037 [==============================] - 4s 3ms/step - loss: 0.0782 - val_loss: 0.0807\n",
      "Epoch 284/400\n",
      "1037/1037 [==============================] - 4s 3ms/step - loss: 0.0782 - val_loss: 0.0810\n",
      "Epoch 285/400\n",
      "1037/1037 [==============================] - 4s 3ms/step - loss: 0.0783 - val_loss: 0.0807\n",
      "Epoch 286/400\n",
      "1037/1037 [==============================] - 3s 3ms/step - loss: 0.0782 - val_loss: 0.0809\n",
      "Epoch 287/400\n",
      "1037/1037 [==============================] - 4s 3ms/step - loss: 0.0783 - val_loss: 0.0811\n",
      "Epoch 288/400\n",
      "1037/1037 [==============================] - 4s 3ms/step - loss: 0.0783 - val_loss: 0.0810\n",
      "Epoch 289/400\n",
      "1037/1037 [==============================] - 4s 3ms/step - loss: 0.0783 - val_loss: 0.0808\n",
      "Epoch 290/400\n",
      "1037/1037 [==============================] - 4s 3ms/step - loss: 0.0782 - val_loss: 0.0809\n",
      "Epoch 291/400\n",
      "1037/1037 [==============================] - 3s 3ms/step - loss: 0.0782 - val_loss: 0.0809\n",
      "Epoch 292/400\n",
      "1037/1037 [==============================] - 4s 3ms/step - loss: 0.0782 - val_loss: 0.0810\n",
      "Epoch 293/400\n",
      "1037/1037 [==============================] - 4s 4ms/step - loss: 0.0783 - val_loss: 0.0808\n",
      "Epoch 294/400\n",
      "1037/1037 [==============================] - 3s 3ms/step - loss: 0.0782 - val_loss: 0.0809\n",
      "Epoch 295/400\n",
      "1037/1037 [==============================] - 3s 3ms/step - loss: 0.0782 - val_loss: 0.0814\n",
      "Epoch 296/400\n",
      "1037/1037 [==============================] - 4s 3ms/step - loss: 0.0782 - val_loss: 0.0811\n",
      "Epoch 297/400\n",
      "1037/1037 [==============================] - 4s 3ms/step - loss: 0.0782 - val_loss: 0.0809\n",
      "Epoch 298/400\n",
      "1037/1037 [==============================] - 3s 3ms/step - loss: 0.0782 - val_loss: 0.0810\n",
      "Epoch 299/400\n",
      "1037/1037 [==============================] - 4s 3ms/step - loss: 0.0782 - val_loss: 0.0810\n",
      "Epoch 300/400\n",
      "1037/1037 [==============================] - 4s 3ms/step - loss: 0.0782 - val_loss: 0.0809\n",
      "Epoch 301/400\n",
      "1037/1037 [==============================] - 4s 3ms/step - loss: 0.0782 - val_loss: 0.0809\n",
      "Epoch 302/400\n",
      "1037/1037 [==============================] - 4s 3ms/step - loss: 0.0782 - val_loss: 0.0811\n",
      "Epoch 303/400\n",
      "1037/1037 [==============================] - 4s 3ms/step - loss: 0.0782 - val_loss: 0.0810\n",
      "Epoch 304/400\n",
      "1037/1037 [==============================] - 4s 3ms/step - loss: 0.0782 - val_loss: 0.0813\n",
      "Epoch 305/400\n",
      "1037/1037 [==============================] - 4s 3ms/step - loss: 0.0783 - val_loss: 0.0809\n",
      "Epoch 306/400\n",
      "1037/1037 [==============================] - 4s 3ms/step - loss: 0.0782 - val_loss: 0.0810\n",
      "Epoch 307/400\n",
      "1037/1037 [==============================] - 4s 3ms/step - loss: 0.0782 - val_loss: 0.0811\n",
      "Epoch 308/400\n",
      "1037/1037 [==============================] - 4s 3ms/step - loss: 0.0783 - val_loss: 0.0809\n",
      "Epoch 309/400\n",
      "1037/1037 [==============================] - 4s 3ms/step - loss: 0.0782 - val_loss: 0.0814\n",
      "Epoch 310/400\n",
      "1037/1037 [==============================] - 4s 3ms/step - loss: 0.0782 - val_loss: 0.0808\n",
      "Epoch 311/400\n",
      "1037/1037 [==============================] - 4s 3ms/step - loss: 0.0783 - val_loss: 0.0809\n",
      "Epoch 312/400\n",
      "1037/1037 [==============================] - 4s 3ms/step - loss: 0.0782 - val_loss: 0.0811\n",
      "Epoch 313/400\n",
      "1037/1037 [==============================] - 3s 3ms/step - loss: 0.0781 - val_loss: 0.0809\n",
      "Epoch 314/400\n"
     ]
    },
    {
     "name": "stdout",
     "output_type": "stream",
     "text": [
      "1037/1037 [==============================] - 3s 3ms/step - loss: 0.0781 - val_loss: 0.0808\n",
      "Epoch 315/400\n",
      "1037/1037 [==============================] - 4s 3ms/step - loss: 0.0782 - val_loss: 0.0812\n",
      "Epoch 316/400\n",
      "1037/1037 [==============================] - 4s 3ms/step - loss: 0.0782 - val_loss: 0.0809\n",
      "Epoch 317/400\n",
      "1037/1037 [==============================] - 3s 3ms/step - loss: 0.0781 - val_loss: 0.0813\n",
      "Epoch 318/400\n",
      "1037/1037 [==============================] - 4s 3ms/step - loss: 0.0782 - val_loss: 0.0807\n",
      "Epoch 319/400\n",
      "1037/1037 [==============================] - 3s 3ms/step - loss: 0.0781 - val_loss: 0.0809\n",
      "Epoch 320/400\n",
      "1037/1037 [==============================] - 4s 3ms/step - loss: 0.0781 - val_loss: 0.0812\n",
      "Epoch 321/400\n",
      "1037/1037 [==============================] - 4s 3ms/step - loss: 0.0782 - val_loss: 0.0809\n",
      "Epoch 322/400\n",
      "1037/1037 [==============================] - 4s 3ms/step - loss: 0.0781 - val_loss: 0.0807\n",
      "Epoch 323/400\n",
      "1037/1037 [==============================] - 4s 4ms/step - loss: 0.0783 - val_loss: 0.0812\n",
      "Epoch 324/400\n",
      "1037/1037 [==============================] - 4s 3ms/step - loss: 0.0781 - val_loss: 0.0810\n",
      "Epoch 325/400\n",
      "1037/1037 [==============================] - 4s 3ms/step - loss: 0.0781 - val_loss: 0.0814\n",
      "Epoch 326/400\n",
      "1037/1037 [==============================] - 4s 4ms/step - loss: 0.0782 - val_loss: 0.0812\n",
      "Epoch 327/400\n",
      "1037/1037 [==============================] - 4s 3ms/step - loss: 0.0782 - val_loss: 0.0814\n",
      "Epoch 328/400\n",
      "1037/1037 [==============================] - 4s 3ms/step - loss: 0.0782 - val_loss: 0.0811\n",
      "Epoch 329/400\n",
      "1037/1037 [==============================] - 4s 3ms/step - loss: 0.0781 - val_loss: 0.0816\n",
      "Epoch 330/400\n",
      "1037/1037 [==============================] - 4s 3ms/step - loss: 0.0782 - val_loss: 0.0814\n",
      "Epoch 331/400\n",
      "1037/1037 [==============================] - 3s 3ms/step - loss: 0.0781 - val_loss: 0.0809\n",
      "Epoch 332/400\n",
      "1037/1037 [==============================] - 4s 3ms/step - loss: 0.0781 - val_loss: 0.0811\n",
      "Epoch 333/400\n",
      "1037/1037 [==============================] - 3s 3ms/step - loss: 0.0782 - val_loss: 0.0811\n",
      "Epoch 334/400\n",
      "1037/1037 [==============================] - 3s 3ms/step - loss: 0.0781 - val_loss: 0.0812\n",
      "Epoch 335/400\n",
      "1037/1037 [==============================] - 4s 3ms/step - loss: 0.0782 - val_loss: 0.0811\n",
      "Epoch 336/400\n",
      "1037/1037 [==============================] - 4s 3ms/step - loss: 0.0781 - val_loss: 0.0811\n",
      "Epoch 337/400\n",
      "1037/1037 [==============================] - 4s 3ms/step - loss: 0.0781 - val_loss: 0.0810\n",
      "Epoch 338/400\n",
      "1037/1037 [==============================] - 4s 3ms/step - loss: 0.0781 - val_loss: 0.0813\n",
      "Epoch 339/400\n",
      "1037/1037 [==============================] - 4s 3ms/step - loss: 0.0781 - val_loss: 0.0812\n",
      "Epoch 340/400\n",
      "1037/1037 [==============================] - 4s 3ms/step - loss: 0.0781 - val_loss: 0.0812\n",
      "Epoch 341/400\n",
      "1037/1037 [==============================] - 3s 3ms/step - loss: 0.0781 - val_loss: 0.0809\n",
      "Epoch 342/400\n",
      "1037/1037 [==============================] - 3s 3ms/step - loss: 0.0781 - val_loss: 0.0813\n",
      "Epoch 343/400\n",
      "1037/1037 [==============================] - 4s 3ms/step - loss: 0.0781 - val_loss: 0.0813\n",
      "Epoch 344/400\n",
      "1037/1037 [==============================] - 5s 4ms/step - loss: 0.0781 - val_loss: 0.0812\n",
      "Epoch 345/400\n",
      "1037/1037 [==============================] - 4s 4ms/step - loss: 0.0781 - val_loss: 0.0810\n",
      "Epoch 346/400\n",
      "1037/1037 [==============================] - 4s 4ms/step - loss: 0.0781 - val_loss: 0.0811\n",
      "Epoch 347/400\n",
      "1037/1037 [==============================] - 4s 4ms/step - loss: 0.0782 - val_loss: 0.0810\n",
      "Epoch 348/400\n",
      "1037/1037 [==============================] - 4s 4ms/step - loss: 0.0781 - val_loss: 0.0811\n",
      "Epoch 349/400\n",
      "1037/1037 [==============================] - 4s 4ms/step - loss: 0.0781 - val_loss: 0.0808\n",
      "Epoch 350/400\n",
      "1037/1037 [==============================] - 4s 4ms/step - loss: 0.0781 - val_loss: 0.0812\n",
      "Epoch 351/400\n",
      "1037/1037 [==============================] - 4s 4ms/step - loss: 0.0781 - val_loss: 0.0809\n",
      "Epoch 352/400\n",
      "1037/1037 [==============================] - 4s 4ms/step - loss: 0.0781 - val_loss: 0.0810\n",
      "Epoch 353/400\n",
      "1037/1037 [==============================] - 4s 4ms/step - loss: 0.0780 - val_loss: 0.0813\n",
      "Epoch 354/400\n",
      "1037/1037 [==============================] - 4s 4ms/step - loss: 0.0781 - val_loss: 0.0808\n",
      "Epoch 355/400\n",
      "1037/1037 [==============================] - 4s 4ms/step - loss: 0.0781 - val_loss: 0.0812\n",
      "Epoch 356/400\n",
      "1037/1037 [==============================] - 4s 4ms/step - loss: 0.0781 - val_loss: 0.0810\n",
      "Epoch 357/400\n",
      "1037/1037 [==============================] - 4s 4ms/step - loss: 0.0781 - val_loss: 0.0810\n",
      "Epoch 358/400\n",
      "1037/1037 [==============================] - 4s 4ms/step - loss: 0.0781 - val_loss: 0.0810\n",
      "Epoch 359/400\n",
      "1037/1037 [==============================] - 4s 4ms/step - loss: 0.0780 - val_loss: 0.0812\n",
      "Epoch 360/400\n",
      "1037/1037 [==============================] - 4s 4ms/step - loss: 0.0781 - val_loss: 0.0811\n",
      "Epoch 361/400\n",
      "1037/1037 [==============================] - 4s 4ms/step - loss: 0.0780 - val_loss: 0.0810\n",
      "Epoch 362/400\n",
      "1037/1037 [==============================] - 4s 4ms/step - loss: 0.0780 - val_loss: 0.0810\n",
      "Epoch 363/400\n",
      "1037/1037 [==============================] - 5s 5ms/step - loss: 0.0780 - val_loss: 0.0819\n",
      "Epoch 364/400\n",
      "1037/1037 [==============================] - 4s 4ms/step - loss: 0.0781 - val_loss: 0.0813\n",
      "Epoch 365/400\n",
      "1037/1037 [==============================] - 4s 4ms/step - loss: 0.0780 - val_loss: 0.0811\n",
      "Epoch 366/400\n",
      "1037/1037 [==============================] - 4s 4ms/step - loss: 0.0781 - val_loss: 0.0810\n",
      "Epoch 367/400\n",
      "1037/1037 [==============================] - 4s 4ms/step - loss: 0.0780 - val_loss: 0.0811\n",
      "Epoch 368/400\n",
      "1037/1037 [==============================] - 4s 4ms/step - loss: 0.0781 - val_loss: 0.0812\n",
      "Epoch 369/400\n",
      "1037/1037 [==============================] - 4s 4ms/step - loss: 0.0781 - val_loss: 0.0810\n",
      "Epoch 370/400\n",
      "1037/1037 [==============================] - 4s 4ms/step - loss: 0.0780 - val_loss: 0.0815\n",
      "Epoch 371/400\n",
      "1037/1037 [==============================] - 4s 4ms/step - loss: 0.0781 - val_loss: 0.0811\n",
      "Epoch 372/400\n",
      "1037/1037 [==============================] - 4s 4ms/step - loss: 0.0780 - val_loss: 0.0810\n",
      "Epoch 373/400\n",
      "1037/1037 [==============================] - 4s 4ms/step - loss: 0.0780 - val_loss: 0.0815\n",
      "Epoch 374/400\n",
      "1037/1037 [==============================] - 4s 4ms/step - loss: 0.0780 - val_loss: 0.0811\n",
      "Epoch 375/400\n",
      "1037/1037 [==============================] - 4s 4ms/step - loss: 0.0780 - val_loss: 0.0811\n",
      "Epoch 376/400\n",
      "1037/1037 [==============================] - 4s 4ms/step - loss: 0.0780 - val_loss: 0.0810\n",
      "Epoch 377/400\n",
      "1037/1037 [==============================] - 4s 4ms/step - loss: 0.0780 - val_loss: 0.0810\n",
      "Epoch 378/400\n",
      "1037/1037 [==============================] - 4s 4ms/step - loss: 0.0780 - val_loss: 0.0809\n",
      "Epoch 379/400\n",
      "1037/1037 [==============================] - 4s 4ms/step - loss: 0.0780 - val_loss: 0.0813\n",
      "Epoch 380/400\n",
      "1037/1037 [==============================] - 4s 4ms/step - loss: 0.0781 - val_loss: 0.0811\n",
      "Epoch 381/400\n",
      "1037/1037 [==============================] - 4s 4ms/step - loss: 0.0780 - val_loss: 0.0813\n",
      "Epoch 382/400\n",
      "1037/1037 [==============================] - 4s 4ms/step - loss: 0.0780 - val_loss: 0.0811\n",
      "Epoch 383/400\n",
      "1037/1037 [==============================] - 4s 4ms/step - loss: 0.0780 - val_loss: 0.0816\n",
      "Epoch 384/400\n",
      "1037/1037 [==============================] - 4s 4ms/step - loss: 0.0780 - val_loss: 0.0811\n",
      "Epoch 385/400\n",
      "1037/1037 [==============================] - 4s 4ms/step - loss: 0.0780 - val_loss: 0.0811\n",
      "Epoch 386/400\n",
      "1037/1037 [==============================] - 4s 4ms/step - loss: 0.0780 - val_loss: 0.0811\n",
      "Epoch 387/400\n",
      "1037/1037 [==============================] - 4s 4ms/step - loss: 0.0780 - val_loss: 0.0810\n",
      "Epoch 388/400\n",
      "1037/1037 [==============================] - 4s 4ms/step - loss: 0.0780 - val_loss: 0.0811\n",
      "Epoch 389/400\n",
      "1037/1037 [==============================] - 4s 4ms/step - loss: 0.0781 - val_loss: 0.0810\n",
      "Epoch 390/400\n",
      "1037/1037 [==============================] - 4s 4ms/step - loss: 0.0779 - val_loss: 0.0815\n",
      "Epoch 391/400\n",
      "1037/1037 [==============================] - 4s 4ms/step - loss: 0.0780 - val_loss: 0.0813\n",
      "Epoch 392/400\n"
     ]
    },
    {
     "name": "stdout",
     "output_type": "stream",
     "text": [
      "1037/1037 [==============================] - 4s 4ms/step - loss: 0.0779 - val_loss: 0.0813\n",
      "Epoch 393/400\n",
      "1037/1037 [==============================] - 4s 4ms/step - loss: 0.0780 - val_loss: 0.0812\n",
      "Epoch 394/400\n",
      "1037/1037 [==============================] - 4s 4ms/step - loss: 0.0780 - val_loss: 0.0809\n",
      "Epoch 395/400\n",
      "1037/1037 [==============================] - 4s 4ms/step - loss: 0.0781 - val_loss: 0.0810\n",
      "Epoch 396/400\n",
      "1037/1037 [==============================] - 4s 4ms/step - loss: 0.0780 - val_loss: 0.0812\n",
      "Epoch 397/400\n",
      "1037/1037 [==============================] - 4s 4ms/step - loss: 0.0780 - val_loss: 0.0810\n",
      "Epoch 398/400\n",
      "1037/1037 [==============================] - 4s 4ms/step - loss: 0.0780 - val_loss: 0.0815\n",
      "Epoch 399/400\n",
      "1037/1037 [==============================] - 4s 4ms/step - loss: 0.0780 - val_loss: 0.0812\n",
      "Epoch 400/400\n",
      "1037/1037 [==============================] - 4s 4ms/step - loss: 0.0780 - val_loss: 0.0812\n"
     ]
    },
    {
     "data": {
      "text/plain": [
       "<keras.callbacks.History at 0x27ed8c51850>"
      ]
     },
     "execution_count": 95,
     "metadata": {},
     "output_type": "execute_result"
    }
   ],
   "source": [
    "model.fit(x=X_train,y=y_train,validation_data=(X_test,y_test),batch_size=256,epochs=400)"
   ]
  },
  {
   "cell_type": "code",
   "execution_count": 96,
   "id": "79042d54",
   "metadata": {},
   "outputs": [],
   "source": [
    "losses=pd.DataFrame(model.history.history)"
   ]
  },
  {
   "cell_type": "code",
   "execution_count": 97,
   "id": "b2e2db0f",
   "metadata": {},
   "outputs": [
    {
     "data": {
      "text/plain": [
       "<AxesSubplot:>"
      ]
     },
     "execution_count": 97,
     "metadata": {},
     "output_type": "execute_result"
    },
    {
     "data": {
      "image/png": "[encoded data removed]",
      "text/plain": [
       "<Figure size 432x288 with 1 Axes>"
      ]
     },
     "metadata": {
      "needs_background": "light"
     },
     "output_type": "display_data"
    }
   ],
   "source": [
    "losses.plot()"
   ]
  },
  {
   "cell_type": "code",
   "execution_count": 98,
   "id": "02732ca8",
   "metadata": {},
   "outputs": [
    {
     "name": "stdout",
     "output_type": "stream",
     "text": [
      "4085/4085 [==============================] - 6s 2ms/step\n"
     ]
    },
    {
     "data": {
      "text/plain": [
       "array([[0.9999999 ],\n",
       "       [0.76543766],\n",
       "       [1.        ],\n",
       "       ...,\n",
       "       [0.61103773],\n",
       "       [0.8877156 ],\n",
       "       [0.99906784]], dtype=float32)"
      ]
     },
     "execution_count": 98,
     "metadata": {},
     "output_type": "execute_result"
    }
   ],
   "source": [
    "predictions=model.predict(X_test)\n",
    "predictions"
   ]
  },
  {
   "cell_type": "code",
   "execution_count": 99,
   "id": "b70e5c11",
   "metadata": {},
   "outputs": [],
   "source": [
    "predictions=np.apply_along_axis(lambda x: 1 if x>=0.5 else 0,1,predictions)"
   ]
  },
  {
   "cell_type": "code",
   "execution_count": 100,
   "id": "f73ca39f",
   "metadata": {},
   "outputs": [
    {
     "data": {
      "text/plain": [
       "0.3395905275862161"
      ]
     },
     "execution_count": 100,
     "metadata": {},
     "output_type": "execute_result"
    }
   ],
   "source": [
    "from sklearn.metrics import explained_variance_score\n",
    "explained_variance_score(y_test,predictions)"
   ]
  },
  {
   "cell_type": "code",
   "execution_count": 101,
   "id": "502cdd95",
   "metadata": {},
   "outputs": [],
   "source": [
    "#this is a bad variance score we need make it atleast 0.8\n",
    "#this is a wrong metric to evaluate classification algo, hence use classification report\n",
    "from sklearn.metrics import classification_report"
   ]
  },
  {
   "cell_type": "code",
   "execution_count": 102,
   "id": "f8e199b0",
   "metadata": {},
   "outputs": [
    {
     "name": "stdout",
     "output_type": "stream",
     "text": [
      "              precision    recall  f1-score   support\n",
      "\n",
      "           0       0.88      0.50      0.64     25613\n",
      "           1       0.89      0.98      0.93    105077\n",
      "\n",
      "    accuracy                           0.89    130690\n",
      "   macro avg       0.88      0.74      0.79    130690\n",
      "weighted avg       0.89      0.89      0.88    130690\n",
      "\n"
     ]
    }
   ],
   "source": [
    "print(classification_report(y_test,predictions))"
   ]
  },
  {
   "cell_type": "code",
   "execution_count": 103,
   "id": "4c526f9a",
   "metadata": {},
   "outputs": [],
   "source": [
    "#by looking in the graph, overfitting occurs, we need to fix it"
   ]
  },
  {
   "cell_type": "code",
   "execution_count": 104,
   "id": "2981c47a",
   "metadata": {},
   "outputs": [],
   "source": [
    "model=Sequential()\n",
    "model.add(Dense(26,activation='relu'))\n",
    "model.add(Dense(13,activation='relu'))\n",
    "model.add(Dense(10,activation='relu'))\n",
    "model.add(Dense(26,activation='relu'))\n",
    "model.add(Dense(13,activation='relu'))\n",
    "\n",
    "model.add(Dense(1,activation='sigmoid'))\n",
    "#model.add(Dense(1,activation=unit_step_function))\n",
    "\n",
    "model.compile(optimizer='adam',loss='binary_crossentropy')"
   ]
  },
  {
   "cell_type": "code",
   "execution_count": 106,
   "id": "74663a32",
   "metadata": {},
   "outputs": [],
   "source": [
    "from tensorflow.keras.callbacks import EarlyStopping"
   ]
  },
  {
   "cell_type": "code",
   "execution_count": 108,
   "id": "4a94f205",
   "metadata": {},
   "outputs": [],
   "source": [
    "early_stop=EarlyStopping(mode='min',monitor='val_loss',verbose=1,patience=25)\n",
    "#this is early stopping mechanism, which will avoid overfitting, if the val_loss error graph shoots up, \n",
    "#then it will stop the model from training further\n",
    "#patience is after how many epochs it should terminate if the value goes opposite as intended\n",
    "#monitor is what value we have to minimise or maximise, here val_loss which is loss of test set\n",
    "#mode is miin, because we want to minismise val_loss"
   ]
  },
  {
   "cell_type": "code",
   "execution_count": 109,
   "id": "6898cbf2",
   "metadata": {},
   "outputs": [
    {
     "name": "stdout",
     "output_type": "stream",
     "text": [
      "Epoch 1/400\n",
      "1037/1037 [==============================] - 5s 4ms/step - loss: 0.4023 - val_loss: 0.3653\n",
      "Epoch 2/400\n",
      "1037/1037 [==============================] - 4s 4ms/step - loss: 0.3574 - val_loss: 0.3527\n",
      "Epoch 3/400\n",
      "1037/1037 [==============================] - 4s 4ms/step - loss: 0.3509 - val_loss: 0.3471\n",
      "Epoch 4/400\n",
      "1037/1037 [==============================] - 4s 4ms/step - loss: 0.3052 - val_loss: 0.2651\n",
      "Epoch 5/400\n",
      "1037/1037 [==============================] - 4s 4ms/step - loss: 0.2617 - val_loss: 0.2579\n",
      "Epoch 6/400\n",
      "1037/1037 [==============================] - 4s 4ms/step - loss: 0.2584 - val_loss: 0.2569\n",
      "Epoch 7/400\n",
      "1037/1037 [==============================] - 4s 4ms/step - loss: 0.2570 - val_loss: 0.2557\n",
      "Epoch 8/400\n",
      "1037/1037 [==============================] - 4s 4ms/step - loss: 0.2565 - val_loss: 0.2550\n",
      "Epoch 9/400\n",
      "1037/1037 [==============================] - 4s 4ms/step - loss: 0.2555 - val_loss: 0.2562\n",
      "Epoch 10/400\n",
      "1037/1037 [==============================] - 4s 4ms/step - loss: 0.2556 - val_loss: 0.2545\n",
      "Epoch 11/400\n",
      "1037/1037 [==============================] - 4s 4ms/step - loss: 0.2549 - val_loss: 0.2576\n",
      "Epoch 12/400\n",
      "1037/1037 [==============================] - 4s 4ms/step - loss: 0.2548 - val_loss: 0.2536\n",
      "Epoch 13/400\n",
      "1037/1037 [==============================] - 4s 4ms/step - loss: 0.2543 - val_loss: 0.2551\n",
      "Epoch 14/400\n",
      "1037/1037 [==============================] - 4s 4ms/step - loss: 0.2540 - val_loss: 0.2535\n",
      "Epoch 15/400\n",
      "1037/1037 [==============================] - 4s 4ms/step - loss: 0.2538 - val_loss: 0.2540\n",
      "Epoch 16/400\n",
      "1037/1037 [==============================] - 4s 4ms/step - loss: 0.2539 - val_loss: 0.2532\n",
      "Epoch 17/400\n",
      "1037/1037 [==============================] - 4s 4ms/step - loss: 0.2537 - val_loss: 0.2531\n",
      "Epoch 18/400\n",
      "1037/1037 [==============================] - 4s 4ms/step - loss: 0.2533 - val_loss: 0.2541\n",
      "Epoch 19/400\n",
      "1037/1037 [==============================] - 4s 4ms/step - loss: 0.2535 - val_loss: 0.2536\n",
      "Epoch 20/400\n",
      "1037/1037 [==============================] - 4s 4ms/step - loss: 0.2532 - val_loss: 0.2533\n",
      "Epoch 21/400\n",
      "1037/1037 [==============================] - 4s 4ms/step - loss: 0.2530 - val_loss: 0.2532\n",
      "Epoch 22/400\n",
      "1037/1037 [==============================] - 4s 4ms/step - loss: 0.2528 - val_loss: 0.2530\n",
      "Epoch 23/400\n",
      "1037/1037 [==============================] - 4s 4ms/step - loss: 0.2528 - val_loss: 0.2575\n",
      "Epoch 24/400\n",
      "1037/1037 [==============================] - 4s 4ms/step - loss: 0.2528 - val_loss: 0.2529\n",
      "Epoch 25/400\n",
      "1037/1037 [==============================] - 4s 4ms/step - loss: 0.2527 - val_loss: 0.2536\n",
      "Epoch 26/400\n",
      "1037/1037 [==============================] - 4s 4ms/step - loss: 0.2523 - val_loss: 0.2525\n",
      "Epoch 27/400\n",
      "1037/1037 [==============================] - 4s 4ms/step - loss: 0.2523 - val_loss: 0.2524\n",
      "Epoch 28/400\n",
      "1037/1037 [==============================] - 4s 4ms/step - loss: 0.2522 - val_loss: 0.2546\n",
      "Epoch 29/400\n",
      "1037/1037 [==============================] - 4s 4ms/step - loss: 0.2520 - val_loss: 0.2546\n",
      "Epoch 30/400\n",
      "1037/1037 [==============================] - 4s 4ms/step - loss: 0.2518 - val_loss: 0.2530\n",
      "Epoch 31/400\n",
      "1037/1037 [==============================] - 4s 4ms/step - loss: 0.2518 - val_loss: 0.2555\n",
      "Epoch 32/400\n",
      "1037/1037 [==============================] - 4s 4ms/step - loss: 0.2518 - val_loss: 0.2529\n",
      "Epoch 33/400\n",
      "1037/1037 [==============================] - 4s 4ms/step - loss: 0.2514 - val_loss: 0.2522\n",
      "Epoch 34/400\n",
      "1037/1037 [==============================] - 4s 4ms/step - loss: 0.2516 - val_loss: 0.2522\n",
      "Epoch 35/400\n",
      "1037/1037 [==============================] - 4s 4ms/step - loss: 0.2516 - val_loss: 0.2531\n",
      "Epoch 36/400\n",
      "1037/1037 [==============================] - 4s 4ms/step - loss: 0.2514 - val_loss: 0.2519\n",
      "Epoch 37/400\n",
      "1037/1037 [==============================] - 4s 4ms/step - loss: 0.2513 - val_loss: 0.2523\n",
      "Epoch 38/400\n",
      "1037/1037 [==============================] - 4s 4ms/step - loss: 0.2513 - val_loss: 0.2523\n",
      "Epoch 39/400\n",
      "1037/1037 [==============================] - 4s 4ms/step - loss: 0.2512 - val_loss: 0.2520\n",
      "Epoch 40/400\n",
      "1037/1037 [==============================] - 4s 4ms/step - loss: 0.2512 - val_loss: 0.2545\n",
      "Epoch 41/400\n",
      "1037/1037 [==============================] - 4s 4ms/step - loss: 0.2515 - val_loss: 0.2531\n",
      "Epoch 42/400\n",
      "1037/1037 [==============================] - 4s 4ms/step - loss: 0.2512 - val_loss: 0.2526\n",
      "Epoch 43/400\n",
      "1037/1037 [==============================] - 4s 4ms/step - loss: 0.2508 - val_loss: 0.2524\n",
      "Epoch 44/400\n",
      "1037/1037 [==============================] - 4s 4ms/step - loss: 0.2509 - val_loss: 0.2532\n",
      "Epoch 45/400\n",
      "1037/1037 [==============================] - 4s 4ms/step - loss: 0.2511 - val_loss: 0.2528\n",
      "Epoch 46/400\n",
      "1037/1037 [==============================] - 4s 4ms/step - loss: 0.2507 - val_loss: 0.2520\n",
      "Epoch 47/400\n",
      "1037/1037 [==============================] - 4s 4ms/step - loss: 0.2510 - val_loss: 0.2523\n",
      "Epoch 48/400\n",
      "1037/1037 [==============================] - 4s 4ms/step - loss: 0.2508 - val_loss: 0.2520\n",
      "Epoch 49/400\n",
      "1037/1037 [==============================] - 4s 4ms/step - loss: 0.2507 - val_loss: 0.2525\n",
      "Epoch 50/400\n",
      "1037/1037 [==============================] - 4s 4ms/step - loss: 0.2508 - val_loss: 0.2522\n",
      "Epoch 51/400\n",
      "1037/1037 [==============================] - 4s 4ms/step - loss: 0.2506 - val_loss: 0.2530\n",
      "Epoch 52/400\n",
      "1037/1037 [==============================] - 4s 4ms/step - loss: 0.2505 - val_loss: 0.2528\n",
      "Epoch 53/400\n",
      "1037/1037 [==============================] - 4s 4ms/step - loss: 0.2506 - val_loss: 0.2527\n",
      "Epoch 54/400\n",
      "1037/1037 [==============================] - 4s 4ms/step - loss: 0.2505 - val_loss: 0.2527\n",
      "Epoch 55/400\n",
      "1037/1037 [==============================] - 4s 4ms/step - loss: 0.2505 - val_loss: 0.2538\n",
      "Epoch 56/400\n",
      "1037/1037 [==============================] - 4s 4ms/step - loss: 0.2506 - val_loss: 0.2536\n",
      "Epoch 57/400\n",
      "1037/1037 [==============================] - 4s 4ms/step - loss: 0.2505 - val_loss: 0.2534\n",
      "Epoch 58/400\n",
      "1037/1037 [==============================] - 4s 4ms/step - loss: 0.2504 - val_loss: 0.2538\n",
      "Epoch 59/400\n",
      "1037/1037 [==============================] - 4s 4ms/step - loss: 0.2504 - val_loss: 0.2523\n",
      "Epoch 60/400\n",
      "1037/1037 [==============================] - 4s 4ms/step - loss: 0.2504 - val_loss: 0.2522\n",
      "Epoch 61/400\n",
      "1037/1037 [==============================] - 4s 4ms/step - loss: 0.2504 - val_loss: 0.2521\n",
      "Epoch 61: early stopping\n"
     ]
    },
    {
     "data": {
      "text/plain": [
       "<keras.callbacks.History at 0x27ee341fe50>"
      ]
     },
     "execution_count": 109,
     "metadata": {},
     "output_type": "execute_result"
    }
   ],
   "source": [
    "model.fit(x=X_train,y=y_train,validation_data=(X_test,y_test),batch_size=256,epochs=400,callbacks=[early_stop])"
   ]
  },
  {
   "cell_type": "code",
   "execution_count": 110,
   "id": "4b1e14e4",
   "metadata": {
    "scrolled": false
   },
   "outputs": [
    {
     "data": {
      "text/plain": [
       "<AxesSubplot:>"
      ]
     },
     "execution_count": 110,
     "metadata": {},
     "output_type": "execute_result"
    },
    {
     "data": {
      "image/png": "[encoded data removed]",
      "text/plain": [
       "<Figure size 432x288 with 1 Axes>"
      ]
     },
     "metadata": {
      "needs_background": "light"
     },
     "output_type": "display_data"
    }
   ],
   "source": [
    "#so it stopped at 61 epoch\n",
    "#lets plot the graph and evaluate the model\n",
    "losses=pd.DataFrame(model.history.history)\n",
    "losses.plot()"
   ]
  },
  {
   "cell_type": "code",
   "execution_count": 112,
   "id": "59b7c147",
   "metadata": {},
   "outputs": [
    {
     "name": "stdout",
     "output_type": "stream",
     "text": [
      "4085/4085 [==============================] - 7s 2ms/step\n"
     ]
    }
   ],
   "source": [
    "predictions=model.predict(X_test)\n",
    "predictions=np.apply_along_axis(lambda x: 1 if x>=0.5 else 0,1,predictions)"
   ]
  },
  {
   "cell_type": "code",
   "execution_count": 113,
   "id": "52cdc43b",
   "metadata": {
    "scrolled": true
   },
   "outputs": [
    {
     "name": "stdout",
     "output_type": "stream",
     "text": [
      "              precision    recall  f1-score   support\n",
      "\n",
      "           0       0.93      0.48      0.63     25613\n",
      "           1       0.89      0.99      0.94    105077\n",
      "\n",
      "    accuracy                           0.89    130690\n",
      "   macro avg       0.91      0.74      0.78    130690\n",
      "weighted avg       0.89      0.89      0.88    130690\n",
      "\n"
     ]
    }
   ],
   "source": [
    "print(classification_report(y_test,predictions))\n",
    "#accuracy is unchanged, we might need to do preproccessing again"
   ]
  },
  {
   "cell_type": "code",
   "execution_count": 114,
   "id": "1a5a322e",
   "metadata": {
    "scrolled": true
   },
   "outputs": [
    {
     "name": "stdout",
     "output_type": "stream",
     "text": [
      "[[ 12337  13276]\n",
      " [   997 104080]]\n"
     ]
    }
   ],
   "source": [
    "from sklearn.metrics import confusion_matrix\n",
    "print(confusion_matrix(y_test,predictions))"
   ]
  },
  {
   "cell_type": "code",
   "execution_count": null,
   "id": "e6f99570",
   "metadata": {},
   "outputs": [],
   "source": []
  }
 ],
 "metadata": {
  "kernelspec": {
   "display_name": "Python 3 (ipykernel)",
   "language": "python",
   "name": "python3"
  },
  "language_info": {
   "codemirror_mode": {
    "name": "ipython",
    "version": 3
   },
   "file_extension": ".py",
   "mimetype": "text/x-python",
   "name": "python",
   "nbconvert_exporter": "python",
   "pygments_lexer": "ipython3",
   "version": "3.9.7"
  }
 },
 "nbformat": 4,
 "nbformat_minor": 5
}
